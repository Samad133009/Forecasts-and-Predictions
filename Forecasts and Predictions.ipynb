{
 "cells": [
  {
   "cell_type": "markdown",
   "metadata": {},
   "source": [
    "# Project Description"
   ]
  },
  {
   "cell_type": "markdown",
   "metadata": {},
   "source": [
    "The gym chain Model Fitness is developing a customer interaction strategy based on analytical data.\n",
    "\n",
    "One of the most common problems gyms and other services face is customer churn. How do we know if a customer is no longer with us? We can calculate churn based on people who get rid of their accounts or don't renew their contracts. However, sometimes it's not obvious that a client has left: they may walk out on tiptoes.\n",
    "\n",
    "Churn indicators vary from field to field. If a user buys from an online store rarely but regularly, you can't say they're a runaway. But if for two weeks they haven't opened a channel that's updated daily, that's a reason to worry: follower might have gotten bored and left.\n",
    "\n",
    "For a gym, it makes sense to say a customer has left if they don't come for a month. Of course, it's possible they're in Cancun and will resume their visits when they return, but's that's not a typical case. Usually, if a customer joins, comes a few times, then disappears, they're unlikely to come back."
   ]
  },
  {
   "cell_type": "markdown",
   "metadata": {},
   "source": [
    "# Project Goal"
   ]
  },
  {
   "cell_type": "markdown",
   "metadata": {},
   "source": [
    "-  To analyze and come up with a customer retention strategy.\n",
    "-  Learn to predict the probability of churn (for the upcoming month) for each customer\n",
    "-  Draw up typical user portraits: select the most outstanding groups and describe their main features\n",
    "-  Analyze the factors that impact churn most\n",
    "-  Draw basic conclusions and develop recommendations on how to improve customer service:\n",
    "    -  Identify target groups\n",
    "    -  Suggest measures to cut churn\n",
    "    -  Describe any other patterns you see with respect to interaction with customers"
   ]
  },
  {
   "cell_type": "markdown",
   "metadata": {},
   "source": [
    "# Project Contents"
   ]
  },
  {
   "cell_type": "markdown",
   "metadata": {},
   "source": [
    "-  <a href='#the_destination1'>Download the data:</a>\n",
    "-  <a href='#the_destination2'>Carry out exploratory data analysis (EDA):</a>\n",
    "-  <a href='#the_destination3'>Build a model to predict user churn:</a>\n",
    "-  <a href='#the_destination4'>Create user clusters:</a>\n",
    "-  <a href='#the_destination5'>Come up with conclusions and basic recommendations on working with customers:</a>\n",
    "-  <a href='#the_destination6'>Overall conclusion:</a> "
   ]
  },
  {
   "cell_type": "markdown",
   "metadata": {},
   "source": [
    "<a id='the_destination1'></a>\n",
    "# Step 1. Download the data"
   ]
  },
  {
   "cell_type": "markdown",
   "metadata": {},
   "source": [
    "**Importing the libraries:**"
   ]
  },
  {
   "cell_type": "code",
   "execution_count": 1,
   "metadata": {},
   "outputs": [],
   "source": [
    "import pandas as pd\n",
    "import seaborn as sns\n",
    "import matplotlib.pyplot as plt\n",
    "from sklearn.model_selection import train_test_split\n",
    "from sklearn.linear_model import LogisticRegression\n",
    "from sklearn.ensemble import RandomForestClassifier\n",
    "from sklearn.metrics import accuracy_score, precision_score, recall_score, f1_score\n",
    "from sklearn.preprocessing import StandardScaler\n",
    "import warnings\n",
    "from scipy.cluster.hierarchy import dendrogram, linkage\n",
    "import numpy as np\n",
    "from sklearn.cluster import KMeans"
   ]
  },
  {
   "cell_type": "markdown",
   "metadata": {},
   "source": [
    "**Information for the \"gym_churn_us\" dataset:**"
   ]
  },
  {
   "cell_type": "code",
   "execution_count": 2,
   "metadata": {},
   "outputs": [
    {
     "name": "stdout",
     "output_type": "stream",
     "text": [
      "<class 'pandas.core.frame.DataFrame'>\n",
      "RangeIndex: 4000 entries, 0 to 3999\n",
      "Data columns (total 14 columns):\n",
      "gender                               4000 non-null int64\n",
      "Near_Location                        4000 non-null int64\n",
      "Partner                              4000 non-null int64\n",
      "Promo_friends                        4000 non-null int64\n",
      "Phone                                4000 non-null int64\n",
      "Contract_period                      4000 non-null int64\n",
      "Group_visits                         4000 non-null int64\n",
      "Age                                  4000 non-null int64\n",
      "Avg_additional_charges_total         4000 non-null float64\n",
      "Month_to_end_contract                4000 non-null float64\n",
      "Lifetime                             4000 non-null int64\n",
      "Avg_class_frequency_total            4000 non-null float64\n",
      "Avg_class_frequency_current_month    4000 non-null float64\n",
      "Churn                                4000 non-null int64\n",
      "dtypes: float64(4), int64(10)\n",
      "memory usage: 437.6 KB\n"
     ]
    },
    {
     "data": {
      "text/html": [
       "<div>\n",
       "<style scoped>\n",
       "    .dataframe tbody tr th:only-of-type {\n",
       "        vertical-align: middle;\n",
       "    }\n",
       "\n",
       "    .dataframe tbody tr th {\n",
       "        vertical-align: top;\n",
       "    }\n",
       "\n",
       "    .dataframe thead th {\n",
       "        text-align: right;\n",
       "    }\n",
       "</style>\n",
       "<table border=\"1\" class=\"dataframe\">\n",
       "  <thead>\n",
       "    <tr style=\"text-align: right;\">\n",
       "      <th></th>\n",
       "      <th>gender</th>\n",
       "      <th>Near_Location</th>\n",
       "      <th>Partner</th>\n",
       "      <th>Promo_friends</th>\n",
       "      <th>Phone</th>\n",
       "      <th>Contract_period</th>\n",
       "      <th>Group_visits</th>\n",
       "      <th>Age</th>\n",
       "      <th>Avg_additional_charges_total</th>\n",
       "      <th>Month_to_end_contract</th>\n",
       "      <th>Lifetime</th>\n",
       "      <th>Avg_class_frequency_total</th>\n",
       "      <th>Avg_class_frequency_current_month</th>\n",
       "      <th>Churn</th>\n",
       "    </tr>\n",
       "  </thead>\n",
       "  <tbody>\n",
       "    <tr>\n",
       "      <td>0</td>\n",
       "      <td>1</td>\n",
       "      <td>1</td>\n",
       "      <td>1</td>\n",
       "      <td>1</td>\n",
       "      <td>0</td>\n",
       "      <td>6</td>\n",
       "      <td>1</td>\n",
       "      <td>29</td>\n",
       "      <td>14.227470</td>\n",
       "      <td>5.0</td>\n",
       "      <td>3</td>\n",
       "      <td>0.020398</td>\n",
       "      <td>0.000000</td>\n",
       "      <td>0</td>\n",
       "    </tr>\n",
       "    <tr>\n",
       "      <td>1</td>\n",
       "      <td>0</td>\n",
       "      <td>1</td>\n",
       "      <td>0</td>\n",
       "      <td>0</td>\n",
       "      <td>1</td>\n",
       "      <td>12</td>\n",
       "      <td>1</td>\n",
       "      <td>31</td>\n",
       "      <td>113.202938</td>\n",
       "      <td>12.0</td>\n",
       "      <td>7</td>\n",
       "      <td>1.922936</td>\n",
       "      <td>1.910244</td>\n",
       "      <td>0</td>\n",
       "    </tr>\n",
       "    <tr>\n",
       "      <td>2</td>\n",
       "      <td>0</td>\n",
       "      <td>1</td>\n",
       "      <td>1</td>\n",
       "      <td>0</td>\n",
       "      <td>1</td>\n",
       "      <td>1</td>\n",
       "      <td>0</td>\n",
       "      <td>28</td>\n",
       "      <td>129.448479</td>\n",
       "      <td>1.0</td>\n",
       "      <td>2</td>\n",
       "      <td>1.859098</td>\n",
       "      <td>1.736502</td>\n",
       "      <td>0</td>\n",
       "    </tr>\n",
       "    <tr>\n",
       "      <td>3</td>\n",
       "      <td>0</td>\n",
       "      <td>1</td>\n",
       "      <td>1</td>\n",
       "      <td>1</td>\n",
       "      <td>1</td>\n",
       "      <td>12</td>\n",
       "      <td>1</td>\n",
       "      <td>33</td>\n",
       "      <td>62.669863</td>\n",
       "      <td>12.0</td>\n",
       "      <td>2</td>\n",
       "      <td>3.205633</td>\n",
       "      <td>3.357215</td>\n",
       "      <td>0</td>\n",
       "    </tr>\n",
       "    <tr>\n",
       "      <td>4</td>\n",
       "      <td>1</td>\n",
       "      <td>1</td>\n",
       "      <td>1</td>\n",
       "      <td>1</td>\n",
       "      <td>1</td>\n",
       "      <td>1</td>\n",
       "      <td>0</td>\n",
       "      <td>26</td>\n",
       "      <td>198.362265</td>\n",
       "      <td>1.0</td>\n",
       "      <td>3</td>\n",
       "      <td>1.113884</td>\n",
       "      <td>1.120078</td>\n",
       "      <td>0</td>\n",
       "    </tr>\n",
       "  </tbody>\n",
       "</table>\n",
       "</div>"
      ],
      "text/plain": [
       "   gender  Near_Location  Partner  Promo_friends  Phone  Contract_period  \\\n",
       "0       1              1        1              1      0                6   \n",
       "1       0              1        0              0      1               12   \n",
       "2       0              1        1              0      1                1   \n",
       "3       0              1        1              1      1               12   \n",
       "4       1              1        1              1      1                1   \n",
       "\n",
       "   Group_visits  Age  Avg_additional_charges_total  Month_to_end_contract  \\\n",
       "0             1   29                     14.227470                    5.0   \n",
       "1             1   31                    113.202938                   12.0   \n",
       "2             0   28                    129.448479                    1.0   \n",
       "3             1   33                     62.669863                   12.0   \n",
       "4             0   26                    198.362265                    1.0   \n",
       "\n",
       "   Lifetime  Avg_class_frequency_total  Avg_class_frequency_current_month  \\\n",
       "0         3                   0.020398                           0.000000   \n",
       "1         7                   1.922936                           1.910244   \n",
       "2         2                   1.859098                           1.736502   \n",
       "3         2                   3.205633                           3.357215   \n",
       "4         3                   1.113884                           1.120078   \n",
       "\n",
       "   Churn  \n",
       "0      0  \n",
       "1      0  \n",
       "2      0  \n",
       "3      0  \n",
       "4      0  "
      ]
     },
     "metadata": {},
     "output_type": "display_data"
    }
   ],
   "source": [
    "try:\n",
    "    gym_churn_us = pd.read_csv('gym_churn_us.csv')\n",
    "except:\n",
    "    gym_churn_us = pd.read_csv('/datasets/gym_churn_us.csv')\n",
    "gym_churn_us.info()\n",
    "display(gym_churn_us.head())"
   ]
  },
  {
   "cell_type": "markdown",
   "metadata": {},
   "source": [
    "In the \"gym_churn_us\" dataset, there are 4000 rows and 15 columns. Columns name are \"gender\", \"Near_Location\", \"Partner\", \"Promo_friends\", \"Phone\", \"Contract_period\", \"Group_visits\", \"Age\", \"Avg_additional_charges_total\", \"Month_to_end_contract\", \"Lifetime\", \"Avg_class_frequency_total\", \"Avg_class_frequency_current_month\" and \"Churn\"."
   ]
  },
  {
   "cell_type": "markdown",
   "metadata": {},
   "source": [
    "**Checking data types:**"
   ]
  },
  {
   "cell_type": "code",
   "execution_count": 3,
   "metadata": {},
   "outputs": [
    {
     "data": {
      "text/plain": [
       "gender                                 int64\n",
       "Near_Location                          int64\n",
       "Partner                                int64\n",
       "Promo_friends                          int64\n",
       "Phone                                  int64\n",
       "Contract_period                        int64\n",
       "Group_visits                           int64\n",
       "Age                                    int64\n",
       "Avg_additional_charges_total         float64\n",
       "Month_to_end_contract                float64\n",
       "Lifetime                               int64\n",
       "Avg_class_frequency_total            float64\n",
       "Avg_class_frequency_current_month    float64\n",
       "Churn                                  int64\n",
       "dtype: object"
      ]
     },
     "execution_count": 3,
     "metadata": {},
     "output_type": "execute_result"
    }
   ],
   "source": [
    "gym_churn_us.dtypes"
   ]
  },
  {
   "cell_type": "markdown",
   "metadata": {},
   "source": [
    "In the \"gym_churn_us\" dataset, \"gender\", \"Near_Location\", \"Partner\", \"Promo_friends\", \"Phone\", \"Contract_period\", \"Group_visits\", \"Age\", \"Lifetime\" and \"Churn\" columns are integer datatype. Rest of the columns are float datatypes."
   ]
  },
  {
   "cell_type": "markdown",
   "metadata": {},
   "source": [
    "Our data falls under two categories:\n",
    "-  Categorical features: 'gender', 'Near_Location', 'Partner', 'Promo_friends', 'Phone', 'Group_visits' and 'Churn'.\n",
    "-  Numerical features: 'Contract_period', 'Age', 'Avg_additional_charges_total', 'Month_to_end_contract',\n",
    "        'Lifetime', 'Avg_class_frequency_total' and 'Avg_class_frequency_current_month'."
   ]
  },
  {
   "cell_type": "markdown",
   "metadata": {},
   "source": [
    "-  In the \"gym_churn_us\" dataset, there are 4000 rows and 15 columns. Columns name are \"gender\", \"Near_Location\", \"Partner\", \"Promo_friends\", \"Phone\", \"Contract_period\", \"Group_visits\", \"Age\", \"Avg_additional_charges_total\", \"Month_to_end_contract\", \"Lifetime\", \"Avg_class_frequency_total\", \"Avg_class_frequency_current_month\" and \"Churn\".\n",
    "-  In the \"gym_churn_us\" dataset, \"gender\", \"Near_Location\", \"Partner\", \"Promo_friends\", \"Phone\", \"Contract_period\", \"Group_visits\", \"Age\", \"Lifetime\" and \"Churn\" columns are integer datatype. Rest of the columns are float datatypes.\n",
    "-  Our data falls under two categories:\n",
    "-  Categorical features: 'gender', 'Near_Location', 'Partner', 'Promo_friends', 'Phone', 'Group_visits' and 'Churn'.\n",
    "-  Numerical features: 'Contract_period', 'Age', 'Avg_additional_charges_total', 'Month_to_end_contract',\n",
    "        'Lifetime', 'Avg_class_frequency_total' and 'Avg_class_frequency_current_month'."
   ]
  },
  {
   "cell_type": "markdown",
   "metadata": {},
   "source": [
    "<a id='the_destination2'></a>\n",
    "# Step 2. Carry out exploratory data analysis (EDA)"
   ]
  },
  {
   "cell_type": "markdown",
   "metadata": {},
   "source": [
    "**Checking missing values in the 'gym_churn_us' dataset:**"
   ]
  },
  {
   "cell_type": "code",
   "execution_count": 4,
   "metadata": {},
   "outputs": [
    {
     "data": {
      "text/plain": [
       "gender                               0\n",
       "Near_Location                        0\n",
       "Partner                              0\n",
       "Promo_friends                        0\n",
       "Phone                                0\n",
       "Contract_period                      0\n",
       "Group_visits                         0\n",
       "Age                                  0\n",
       "Avg_additional_charges_total         0\n",
       "Month_to_end_contract                0\n",
       "Lifetime                             0\n",
       "Avg_class_frequency_total            0\n",
       "Avg_class_frequency_current_month    0\n",
       "Churn                                0\n",
       "dtype: int64"
      ]
     },
     "execution_count": 4,
     "metadata": {},
     "output_type": "execute_result"
    }
   ],
   "source": [
    "gym_churn_us.isnull().sum()"
   ]
  },
  {
   "cell_type": "markdown",
   "metadata": {},
   "source": [
    "In the \"gym_churn_us\" dataset, there are no missing values."
   ]
  },
  {
   "cell_type": "markdown",
   "metadata": {},
   "source": [
    "**Determining the numbe rof male and female:**"
   ]
  },
  {
   "cell_type": "code",
   "execution_count": 5,
   "metadata": {},
   "outputs": [
    {
     "data": {
      "text/plain": [
       "1    2041\n",
       "0    1959\n",
       "Name: gender, dtype: int64"
      ]
     },
     "execution_count": 5,
     "metadata": {},
     "output_type": "execute_result"
    }
   ],
   "source": [
    "gym_churn_us['gender'].value_counts()"
   ]
  },
  {
   "cell_type": "markdown",
   "metadata": {},
   "source": [
    "Considering 1 value for male and 0 value for female we can say that the number of male is more compared to female."
   ]
  },
  {
   "cell_type": "markdown",
   "metadata": {},
   "source": [
    "**Determining the number of churn customer:**"
   ]
  },
  {
   "cell_type": "code",
   "execution_count": 6,
   "metadata": {},
   "outputs": [
    {
     "data": {
      "text/plain": [
       "0    2939\n",
       "1    1061\n",
       "Name: Churn, dtype: int64"
      ]
     },
     "execution_count": 6,
     "metadata": {},
     "output_type": "execute_result"
    }
   ],
   "source": [
    "gym_churn_us['Churn'].value_counts()"
   ]
  },
  {
   "cell_type": "markdown",
   "metadata": {},
   "source": [
    "Considering the 0 value for chuen left and 1 value for churn stayed we can say that more customers are left compared to the customers who stayed."
   ]
  },
  {
   "cell_type": "markdown",
   "metadata": {},
   "source": [
    "**Study the mean values and standard deviation:**"
   ]
  },
  {
   "cell_type": "code",
   "execution_count": 7,
   "metadata": {},
   "outputs": [
    {
     "data": {
      "text/html": [
       "<div>\n",
       "<style scoped>\n",
       "    .dataframe tbody tr th:only-of-type {\n",
       "        vertical-align: middle;\n",
       "    }\n",
       "\n",
       "    .dataframe tbody tr th {\n",
       "        vertical-align: top;\n",
       "    }\n",
       "\n",
       "    .dataframe thead th {\n",
       "        text-align: right;\n",
       "    }\n",
       "</style>\n",
       "<table border=\"1\" class=\"dataframe\">\n",
       "  <thead>\n",
       "    <tr style=\"text-align: right;\">\n",
       "      <th></th>\n",
       "      <th>gender</th>\n",
       "      <th>Near_Location</th>\n",
       "      <th>Partner</th>\n",
       "      <th>Promo_friends</th>\n",
       "      <th>Phone</th>\n",
       "      <th>Contract_period</th>\n",
       "      <th>Group_visits</th>\n",
       "      <th>Age</th>\n",
       "      <th>Avg_additional_charges_total</th>\n",
       "      <th>Month_to_end_contract</th>\n",
       "      <th>Lifetime</th>\n",
       "      <th>Avg_class_frequency_total</th>\n",
       "      <th>Avg_class_frequency_current_month</th>\n",
       "      <th>Churn</th>\n",
       "    </tr>\n",
       "  </thead>\n",
       "  <tbody>\n",
       "    <tr>\n",
       "      <td>count</td>\n",
       "      <td>4000.000000</td>\n",
       "      <td>4000.000000</td>\n",
       "      <td>4000.000000</td>\n",
       "      <td>4000.000000</td>\n",
       "      <td>4000.000000</td>\n",
       "      <td>4000.000000</td>\n",
       "      <td>4000.000000</td>\n",
       "      <td>4000.000000</td>\n",
       "      <td>4000.000000</td>\n",
       "      <td>4000.000000</td>\n",
       "      <td>4000.000000</td>\n",
       "      <td>4000.000000</td>\n",
       "      <td>4000.000000</td>\n",
       "      <td>4000.000000</td>\n",
       "    </tr>\n",
       "    <tr>\n",
       "      <td>mean</td>\n",
       "      <td>0.510250</td>\n",
       "      <td>0.845250</td>\n",
       "      <td>0.486750</td>\n",
       "      <td>0.308500</td>\n",
       "      <td>0.903500</td>\n",
       "      <td>4.681250</td>\n",
       "      <td>0.412250</td>\n",
       "      <td>29.184250</td>\n",
       "      <td>146.943728</td>\n",
       "      <td>4.322750</td>\n",
       "      <td>3.724750</td>\n",
       "      <td>1.879020</td>\n",
       "      <td>1.767052</td>\n",
       "      <td>0.265250</td>\n",
       "    </tr>\n",
       "    <tr>\n",
       "      <td>std</td>\n",
       "      <td>0.499957</td>\n",
       "      <td>0.361711</td>\n",
       "      <td>0.499887</td>\n",
       "      <td>0.461932</td>\n",
       "      <td>0.295313</td>\n",
       "      <td>4.549706</td>\n",
       "      <td>0.492301</td>\n",
       "      <td>3.258367</td>\n",
       "      <td>96.355602</td>\n",
       "      <td>4.191297</td>\n",
       "      <td>3.749267</td>\n",
       "      <td>0.972245</td>\n",
       "      <td>1.052906</td>\n",
       "      <td>0.441521</td>\n",
       "    </tr>\n",
       "    <tr>\n",
       "      <td>min</td>\n",
       "      <td>0.000000</td>\n",
       "      <td>0.000000</td>\n",
       "      <td>0.000000</td>\n",
       "      <td>0.000000</td>\n",
       "      <td>0.000000</td>\n",
       "      <td>1.000000</td>\n",
       "      <td>0.000000</td>\n",
       "      <td>18.000000</td>\n",
       "      <td>0.148205</td>\n",
       "      <td>1.000000</td>\n",
       "      <td>0.000000</td>\n",
       "      <td>0.000000</td>\n",
       "      <td>0.000000</td>\n",
       "      <td>0.000000</td>\n",
       "    </tr>\n",
       "    <tr>\n",
       "      <td>25%</td>\n",
       "      <td>0.000000</td>\n",
       "      <td>1.000000</td>\n",
       "      <td>0.000000</td>\n",
       "      <td>0.000000</td>\n",
       "      <td>1.000000</td>\n",
       "      <td>1.000000</td>\n",
       "      <td>0.000000</td>\n",
       "      <td>27.000000</td>\n",
       "      <td>68.868830</td>\n",
       "      <td>1.000000</td>\n",
       "      <td>1.000000</td>\n",
       "      <td>1.180875</td>\n",
       "      <td>0.963003</td>\n",
       "      <td>0.000000</td>\n",
       "    </tr>\n",
       "    <tr>\n",
       "      <td>50%</td>\n",
       "      <td>1.000000</td>\n",
       "      <td>1.000000</td>\n",
       "      <td>0.000000</td>\n",
       "      <td>0.000000</td>\n",
       "      <td>1.000000</td>\n",
       "      <td>1.000000</td>\n",
       "      <td>0.000000</td>\n",
       "      <td>29.000000</td>\n",
       "      <td>136.220159</td>\n",
       "      <td>1.000000</td>\n",
       "      <td>3.000000</td>\n",
       "      <td>1.832768</td>\n",
       "      <td>1.719574</td>\n",
       "      <td>0.000000</td>\n",
       "    </tr>\n",
       "    <tr>\n",
       "      <td>75%</td>\n",
       "      <td>1.000000</td>\n",
       "      <td>1.000000</td>\n",
       "      <td>1.000000</td>\n",
       "      <td>1.000000</td>\n",
       "      <td>1.000000</td>\n",
       "      <td>6.000000</td>\n",
       "      <td>1.000000</td>\n",
       "      <td>31.000000</td>\n",
       "      <td>210.949625</td>\n",
       "      <td>6.000000</td>\n",
       "      <td>5.000000</td>\n",
       "      <td>2.536078</td>\n",
       "      <td>2.510336</td>\n",
       "      <td>1.000000</td>\n",
       "    </tr>\n",
       "    <tr>\n",
       "      <td>max</td>\n",
       "      <td>1.000000</td>\n",
       "      <td>1.000000</td>\n",
       "      <td>1.000000</td>\n",
       "      <td>1.000000</td>\n",
       "      <td>1.000000</td>\n",
       "      <td>12.000000</td>\n",
       "      <td>1.000000</td>\n",
       "      <td>41.000000</td>\n",
       "      <td>552.590740</td>\n",
       "      <td>12.000000</td>\n",
       "      <td>31.000000</td>\n",
       "      <td>6.023668</td>\n",
       "      <td>6.146783</td>\n",
       "      <td>1.000000</td>\n",
       "    </tr>\n",
       "  </tbody>\n",
       "</table>\n",
       "</div>"
      ],
      "text/plain": [
       "            gender  Near_Location      Partner  Promo_friends        Phone  \\\n",
       "count  4000.000000    4000.000000  4000.000000    4000.000000  4000.000000   \n",
       "mean      0.510250       0.845250     0.486750       0.308500     0.903500   \n",
       "std       0.499957       0.361711     0.499887       0.461932     0.295313   \n",
       "min       0.000000       0.000000     0.000000       0.000000     0.000000   \n",
       "25%       0.000000       1.000000     0.000000       0.000000     1.000000   \n",
       "50%       1.000000       1.000000     0.000000       0.000000     1.000000   \n",
       "75%       1.000000       1.000000     1.000000       1.000000     1.000000   \n",
       "max       1.000000       1.000000     1.000000       1.000000     1.000000   \n",
       "\n",
       "       Contract_period  Group_visits          Age  \\\n",
       "count      4000.000000   4000.000000  4000.000000   \n",
       "mean          4.681250      0.412250    29.184250   \n",
       "std           4.549706      0.492301     3.258367   \n",
       "min           1.000000      0.000000    18.000000   \n",
       "25%           1.000000      0.000000    27.000000   \n",
       "50%           1.000000      0.000000    29.000000   \n",
       "75%           6.000000      1.000000    31.000000   \n",
       "max          12.000000      1.000000    41.000000   \n",
       "\n",
       "       Avg_additional_charges_total  Month_to_end_contract     Lifetime  \\\n",
       "count                   4000.000000            4000.000000  4000.000000   \n",
       "mean                     146.943728               4.322750     3.724750   \n",
       "std                       96.355602               4.191297     3.749267   \n",
       "min                        0.148205               1.000000     0.000000   \n",
       "25%                       68.868830               1.000000     1.000000   \n",
       "50%                      136.220159               1.000000     3.000000   \n",
       "75%                      210.949625               6.000000     5.000000   \n",
       "max                      552.590740              12.000000    31.000000   \n",
       "\n",
       "       Avg_class_frequency_total  Avg_class_frequency_current_month  \\\n",
       "count                4000.000000                        4000.000000   \n",
       "mean                    1.879020                           1.767052   \n",
       "std                     0.972245                           1.052906   \n",
       "min                     0.000000                           0.000000   \n",
       "25%                     1.180875                           0.963003   \n",
       "50%                     1.832768                           1.719574   \n",
       "75%                     2.536078                           2.510336   \n",
       "max                     6.023668                           6.146783   \n",
       "\n",
       "             Churn  \n",
       "count  4000.000000  \n",
       "mean      0.265250  \n",
       "std       0.441521  \n",
       "min       0.000000  \n",
       "25%       0.000000  \n",
       "50%       0.000000  \n",
       "75%       1.000000  \n",
       "max       1.000000  "
      ]
     },
     "execution_count": 7,
     "metadata": {},
     "output_type": "execute_result"
    }
   ],
   "source": [
    "gym_churn_us.describe()"
   ]
  },
  {
   "cell_type": "markdown",
   "metadata": {},
   "source": [
    "-  Mean is for gender 0.510250, Near_Location 0.845250, Partner 0.486750, Promo_friends 0.308500, Phone 0.903500, Contract_period 4.681250, Group_visits 0.412250, Age 29.184250, Avg_additional_charges_total 146.943728, Month_to_end_contract 4.322750, Lifetime 3.724750, Avg_class_frequency_total 1.879020, Avg_class_frequency_current_month\t1.767052 and Churn 0.265250.\n",
    "-  Standard deviation is for gender 0.499957, Near_Location 0.361711, Partner 0.499887, Promo_friends 0.461932, Phone 0.295313, Contract_period 4.549706, Group_visits 0.492301, Age 3.258367, Avg_additional_charges_total 96.355602, Month_to_end_contract 4.191297, Lifetime 3.749267, Avg_class_frequency_total 0.972245, Avg_class_frequency_current_month 1.052906 and Churn 0.441521."
   ]
  },
  {
   "cell_type": "markdown",
   "metadata": {
    "scrolled": true
   },
   "source": [
    "**Determining the mean feature values in two groups:**"
   ]
  },
  {
   "cell_type": "code",
   "execution_count": 8,
   "metadata": {
    "scrolled": true
   },
   "outputs": [
    {
     "data": {
      "text/html": [
       "<div>\n",
       "<style scoped>\n",
       "    .dataframe tbody tr th:only-of-type {\n",
       "        vertical-align: middle;\n",
       "    }\n",
       "\n",
       "    .dataframe tbody tr th {\n",
       "        vertical-align: top;\n",
       "    }\n",
       "\n",
       "    .dataframe thead th {\n",
       "        text-align: right;\n",
       "    }\n",
       "</style>\n",
       "<table border=\"1\" class=\"dataframe\">\n",
       "  <thead>\n",
       "    <tr style=\"text-align: right;\">\n",
       "      <th></th>\n",
       "      <th>gender</th>\n",
       "      <th>Near_Location</th>\n",
       "      <th>Partner</th>\n",
       "      <th>Promo_friends</th>\n",
       "      <th>Phone</th>\n",
       "      <th>Contract_period</th>\n",
       "      <th>Group_visits</th>\n",
       "      <th>Age</th>\n",
       "      <th>Avg_additional_charges_total</th>\n",
       "      <th>Month_to_end_contract</th>\n",
       "      <th>Lifetime</th>\n",
       "      <th>Avg_class_frequency_total</th>\n",
       "      <th>Avg_class_frequency_current_month</th>\n",
       "    </tr>\n",
       "    <tr>\n",
       "      <th>Churn</th>\n",
       "      <th></th>\n",
       "      <th></th>\n",
       "      <th></th>\n",
       "      <th></th>\n",
       "      <th></th>\n",
       "      <th></th>\n",
       "      <th></th>\n",
       "      <th></th>\n",
       "      <th></th>\n",
       "      <th></th>\n",
       "      <th></th>\n",
       "      <th></th>\n",
       "      <th></th>\n",
       "    </tr>\n",
       "  </thead>\n",
       "  <tbody>\n",
       "    <tr>\n",
       "      <td>0</td>\n",
       "      <td>0.510037</td>\n",
       "      <td>0.873086</td>\n",
       "      <td>0.534195</td>\n",
       "      <td>0.353522</td>\n",
       "      <td>0.903709</td>\n",
       "      <td>5.747193</td>\n",
       "      <td>0.464103</td>\n",
       "      <td>29.976523</td>\n",
       "      <td>158.445715</td>\n",
       "      <td>5.283089</td>\n",
       "      <td>4.711807</td>\n",
       "      <td>2.024876</td>\n",
       "      <td>2.027882</td>\n",
       "    </tr>\n",
       "    <tr>\n",
       "      <td>1</td>\n",
       "      <td>0.510839</td>\n",
       "      <td>0.768143</td>\n",
       "      <td>0.355325</td>\n",
       "      <td>0.183789</td>\n",
       "      <td>0.902922</td>\n",
       "      <td>1.728558</td>\n",
       "      <td>0.268615</td>\n",
       "      <td>26.989632</td>\n",
       "      <td>115.082899</td>\n",
       "      <td>1.662582</td>\n",
       "      <td>0.990575</td>\n",
       "      <td>1.474995</td>\n",
       "      <td>1.044546</td>\n",
       "    </tr>\n",
       "  </tbody>\n",
       "</table>\n",
       "</div>"
      ],
      "text/plain": [
       "         gender  Near_Location   Partner  Promo_friends     Phone  \\\n",
       "Churn                                                               \n",
       "0      0.510037       0.873086  0.534195       0.353522  0.903709   \n",
       "1      0.510839       0.768143  0.355325       0.183789  0.902922   \n",
       "\n",
       "       Contract_period  Group_visits        Age  Avg_additional_charges_total  \\\n",
       "Churn                                                                           \n",
       "0             5.747193      0.464103  29.976523                    158.445715   \n",
       "1             1.728558      0.268615  26.989632                    115.082899   \n",
       "\n",
       "       Month_to_end_contract  Lifetime  Avg_class_frequency_total  \\\n",
       "Churn                                                               \n",
       "0                   5.283089  4.711807                   2.024876   \n",
       "1                   1.662582  0.990575                   1.474995   \n",
       "\n",
       "       Avg_class_frequency_current_month  \n",
       "Churn                                     \n",
       "0                               2.027882  \n",
       "1                               1.044546  "
      ]
     },
     "execution_count": 8,
     "metadata": {},
     "output_type": "execute_result"
    }
   ],
   "source": [
    "gym_churn_us.groupby(['Churn']).mean()"
   ]
  },
  {
   "cell_type": "markdown",
   "metadata": {},
   "source": [
    "The 'gym_churn_us' dataset is divided into two parts for those who left (churn = 0) and for those who stayed (churn = 1)."
   ]
  },
  {
   "cell_type": "markdown",
   "metadata": {},
   "source": [
    "**Determining churn customer histogram:**"
   ]
  },
  {
   "cell_type": "code",
   "execution_count": 9,
   "metadata": {},
   "outputs": [
    {
     "data": {
      "image/png": "[encoded data removed]",
      "text/plain": [
       "<Figure size 720x576 with 8 Axes>"
      ]
     },
     "metadata": {
      "needs_background": "light"
     },
     "output_type": "display_data"
    }
   ],
   "source": [
    "churn_customers = gym_churn_us[gym_churn_us[\"Churn\"] == 1]\n",
    "churn_customers_not = gym_churn_us[gym_churn_us[\"Churn\"] == 0]\n",
    "cols = ['Contract_period', 'Age', 'Avg_additional_charges_total', 'Month_to_end_contract',\n",
    "        'Lifetime', 'Avg_class_frequency_total', 'Avg_class_frequency_current_month']\n",
    "churn_customers[cols].plot.hist(subplots = True, layout=(4, 2), figsize=(10,8))\n",
    "plt.show()"
   ]
  },
  {
   "cell_type": "markdown",
   "metadata": {},
   "source": [
    "**Determining not churn customers histogram:**"
   ]
  },
  {
   "cell_type": "code",
   "execution_count": 10,
   "metadata": {},
   "outputs": [
    {
     "data": {
      "image/png": "[encoded data removed]",
      "text/plain": [
       "<Figure size 720x576 with 8 Axes>"
      ]
     },
     "metadata": {
      "needs_background": "light"
     },
     "output_type": "display_data"
    }
   ],
   "source": [
    "cols = ['Contract_period', 'Age', 'Avg_additional_charges_total', 'Month_to_end_contract',\n",
    "        'Lifetime', 'Avg_class_frequency_total', 'Avg_class_frequency_current_month']\n",
    "churn_customers_not[cols].plot.hist(subplots = True, layout=(4, 2), figsize=(10,8))\n",
    "plt.show()"
   ]
  },
  {
   "cell_type": "markdown",
   "metadata": {},
   "source": [
    "From the above two histograms, we can conclude that for numerical features churn customers and not churn customers are equally distributed."
   ]
  },
  {
   "cell_type": "markdown",
   "metadata": {},
   "source": [
    "**Determining bar plot for categorical variables in churn customers and not churn customers:**"
   ]
  },
  {
   "cell_type": "code",
   "execution_count": 11,
   "metadata": {},
   "outputs": [
    {
     "data": {
      "image/png": "[encoded data removed]",
      "text/plain": [
       "<Figure size 432x288 with 1 Axes>"
      ]
     },
     "metadata": {
      "needs_background": "light"
     },
     "output_type": "display_data"
    },
    {
     "data": {
      "image/png": "[encoded data removed]",
      "text/plain": [
       "<Figure size 432x288 with 1 Axes>"
      ]
     },
     "metadata": {
      "needs_background": "light"
     },
     "output_type": "display_data"
    },
    {
     "data": {
      "image/png": "[encoded data removed]",
      "text/plain": [
       "<Figure size 432x288 with 1 Axes>"
      ]
     },
     "metadata": {
      "needs_background": "light"
     },
     "output_type": "display_data"
    },
    {
     "data": {
      "image/png": "[encoded data removed]",
      "text/plain": [
       "<Figure size 432x288 with 1 Axes>"
      ]
     },
     "metadata": {
      "needs_background": "light"
     },
     "output_type": "display_data"
    },
    {
     "data": {
      "image/png": "[encoded data removed]",
      "text/plain": [
       "<Figure size 432x288 with 1 Axes>"
      ]
     },
     "metadata": {
      "needs_background": "light"
     },
     "output_type": "display_data"
    },
    {
     "data": {
      "image/png": "[encoded data removed]",
      "text/plain": [
       "<Figure size 432x288 with 1 Axes>"
      ]
     },
     "metadata": {
      "needs_background": "light"
     },
     "output_type": "display_data"
    },
    {
     "data": {
      "image/png": "[encoded data removed]",
      "text/plain": [
       "<Figure size 432x288 with 1 Axes>"
      ]
     },
     "metadata": {
      "needs_background": "light"
     },
     "output_type": "display_data"
    },
    {
     "data": {
      "image/png": "[encoded data removed]",
      "text/plain": [
       "<Figure size 432x288 with 1 Axes>"
      ]
     },
     "metadata": {
      "needs_background": "light"
     },
     "output_type": "display_data"
    },
    {
     "data": {
      "image/png": "[encoded data removed]",
      "text/plain": [
       "<Figure size 432x288 with 1 Axes>"
      ]
     },
     "metadata": {
      "needs_background": "light"
     },
     "output_type": "display_data"
    },
    {
     "data": {
      "image/png": "[encoded data removed]",
      "text/plain": [
       "<Figure size 432x288 with 1 Axes>"
      ]
     },
     "metadata": {
      "needs_background": "light"
     },
     "output_type": "display_data"
    },
    {
     "data": {
      "image/png": "[encoded data removed]",
      "text/plain": [
       "<Figure size 432x288 with 1 Axes>"
      ]
     },
     "metadata": {
      "needs_background": "light"
     },
     "output_type": "display_data"
    },
    {
     "data": {
      "image/png": "[encoded data removed]",
      "text/plain": [
       "<Figure size 432x288 with 1 Axes>"
      ]
     },
     "metadata": {
      "needs_background": "light"
     },
     "output_type": "display_data"
    }
   ],
   "source": [
    "for column in ['gender', 'Near_Location', 'Partner', 'Promo_friends', 'Phone', 'Group_visits']:\n",
    "    churn_customers.groupby([column])['gender', 'Near_Location', 'Partner', 'Promo_friends', 'Phone', 'Group_visits'].count().plot(kind=\"bar\")\n",
    "    churn_customers_not.groupby([column])['gender', 'Near_Location', 'Partner', 'Promo_friends', 'Phone', 'Group_visits'].count().plot(kind=\"bar\")"
   ]
  },
  {
   "cell_type": "markdown",
   "metadata": {},
   "source": [
    "For categorical features churn customers and not churn customers 'gender' and 'phone' features are equally distributed but other features are not."
   ]
  },
  {
   "cell_type": "markdown",
   "metadata": {},
   "source": [
    "**Building a correlation matrix:**"
   ]
  },
  {
   "cell_type": "code",
   "execution_count": 12,
   "metadata": {},
   "outputs": [
    {
     "data": {
      "text/html": [
       "<div>\n",
       "<style scoped>\n",
       "    .dataframe tbody tr th:only-of-type {\n",
       "        vertical-align: middle;\n",
       "    }\n",
       "\n",
       "    .dataframe tbody tr th {\n",
       "        vertical-align: top;\n",
       "    }\n",
       "\n",
       "    .dataframe thead th {\n",
       "        text-align: right;\n",
       "    }\n",
       "</style>\n",
       "<table border=\"1\" class=\"dataframe\">\n",
       "  <thead>\n",
       "    <tr style=\"text-align: right;\">\n",
       "      <th></th>\n",
       "      <th>gender</th>\n",
       "      <th>Near_Location</th>\n",
       "      <th>Partner</th>\n",
       "      <th>Promo_friends</th>\n",
       "      <th>Phone</th>\n",
       "      <th>Contract_period</th>\n",
       "      <th>Group_visits</th>\n",
       "      <th>Age</th>\n",
       "      <th>Avg_additional_charges_total</th>\n",
       "      <th>Month_to_end_contract</th>\n",
       "      <th>Lifetime</th>\n",
       "      <th>Avg_class_frequency_total</th>\n",
       "      <th>Avg_class_frequency_current_month</th>\n",
       "      <th>Churn</th>\n",
       "    </tr>\n",
       "  </thead>\n",
       "  <tbody>\n",
       "    <tr>\n",
       "      <td>gender</td>\n",
       "      <td>1.000000</td>\n",
       "      <td>0.006699</td>\n",
       "      <td>-0.010463</td>\n",
       "      <td>-0.005033</td>\n",
       "      <td>-0.008542</td>\n",
       "      <td>0.000502</td>\n",
       "      <td>0.017879</td>\n",
       "      <td>0.013807</td>\n",
       "      <td>-0.009334</td>\n",
       "      <td>-0.001281</td>\n",
       "      <td>0.013579</td>\n",
       "      <td>0.014620</td>\n",
       "      <td>0.009156</td>\n",
       "      <td>0.000708</td>\n",
       "    </tr>\n",
       "    <tr>\n",
       "      <td>Near_Location</td>\n",
       "      <td>0.006699</td>\n",
       "      <td>1.000000</td>\n",
       "      <td>-0.005119</td>\n",
       "      <td>0.210964</td>\n",
       "      <td>-0.015763</td>\n",
       "      <td>0.150233</td>\n",
       "      <td>0.154728</td>\n",
       "      <td>0.058358</td>\n",
       "      <td>0.040761</td>\n",
       "      <td>0.143961</td>\n",
       "      <td>0.070921</td>\n",
       "      <td>0.043127</td>\n",
       "      <td>0.062664</td>\n",
       "      <td>-0.128098</td>\n",
       "    </tr>\n",
       "    <tr>\n",
       "      <td>Partner</td>\n",
       "      <td>-0.010463</td>\n",
       "      <td>-0.005119</td>\n",
       "      <td>1.000000</td>\n",
       "      <td>0.451960</td>\n",
       "      <td>0.009970</td>\n",
       "      <td>0.306166</td>\n",
       "      <td>0.022710</td>\n",
       "      <td>0.047480</td>\n",
       "      <td>0.022941</td>\n",
       "      <td>0.294632</td>\n",
       "      <td>0.061229</td>\n",
       "      <td>0.024938</td>\n",
       "      <td>0.045561</td>\n",
       "      <td>-0.157986</td>\n",
       "    </tr>\n",
       "    <tr>\n",
       "      <td>Promo_friends</td>\n",
       "      <td>-0.005033</td>\n",
       "      <td>0.210964</td>\n",
       "      <td>0.451960</td>\n",
       "      <td>1.000000</td>\n",
       "      <td>0.001982</td>\n",
       "      <td>0.244552</td>\n",
       "      <td>0.120170</td>\n",
       "      <td>0.050113</td>\n",
       "      <td>0.036898</td>\n",
       "      <td>0.239553</td>\n",
       "      <td>0.072721</td>\n",
       "      <td>0.028063</td>\n",
       "      <td>0.053768</td>\n",
       "      <td>-0.162233</td>\n",
       "    </tr>\n",
       "    <tr>\n",
       "      <td>Phone</td>\n",
       "      <td>-0.008542</td>\n",
       "      <td>-0.015763</td>\n",
       "      <td>0.009970</td>\n",
       "      <td>0.001982</td>\n",
       "      <td>1.000000</td>\n",
       "      <td>-0.006893</td>\n",
       "      <td>-0.010099</td>\n",
       "      <td>-0.011403</td>\n",
       "      <td>0.009279</td>\n",
       "      <td>-0.011196</td>\n",
       "      <td>-0.018801</td>\n",
       "      <td>0.008340</td>\n",
       "      <td>0.013375</td>\n",
       "      <td>-0.001177</td>\n",
       "    </tr>\n",
       "    <tr>\n",
       "      <td>Contract_period</td>\n",
       "      <td>0.000502</td>\n",
       "      <td>0.150233</td>\n",
       "      <td>0.306166</td>\n",
       "      <td>0.244552</td>\n",
       "      <td>-0.006893</td>\n",
       "      <td>1.000000</td>\n",
       "      <td>0.169991</td>\n",
       "      <td>0.138249</td>\n",
       "      <td>0.111445</td>\n",
       "      <td>0.973064</td>\n",
       "      <td>0.170725</td>\n",
       "      <td>0.096211</td>\n",
       "      <td>0.159407</td>\n",
       "      <td>-0.389984</td>\n",
       "    </tr>\n",
       "    <tr>\n",
       "      <td>Group_visits</td>\n",
       "      <td>0.017879</td>\n",
       "      <td>0.154728</td>\n",
       "      <td>0.022710</td>\n",
       "      <td>0.120170</td>\n",
       "      <td>-0.010099</td>\n",
       "      <td>0.169991</td>\n",
       "      <td>1.000000</td>\n",
       "      <td>0.080934</td>\n",
       "      <td>0.032079</td>\n",
       "      <td>0.163703</td>\n",
       "      <td>0.075853</td>\n",
       "      <td>0.056695</td>\n",
       "      <td>0.075923</td>\n",
       "      <td>-0.175325</td>\n",
       "    </tr>\n",
       "    <tr>\n",
       "      <td>Age</td>\n",
       "      <td>0.013807</td>\n",
       "      <td>0.058358</td>\n",
       "      <td>0.047480</td>\n",
       "      <td>0.050113</td>\n",
       "      <td>-0.011403</td>\n",
       "      <td>0.138249</td>\n",
       "      <td>0.080934</td>\n",
       "      <td>1.000000</td>\n",
       "      <td>0.080240</td>\n",
       "      <td>0.134511</td>\n",
       "      <td>0.164693</td>\n",
       "      <td>0.119953</td>\n",
       "      <td>0.183095</td>\n",
       "      <td>-0.404735</td>\n",
       "    </tr>\n",
       "    <tr>\n",
       "      <td>Avg_additional_charges_total</td>\n",
       "      <td>-0.009334</td>\n",
       "      <td>0.040761</td>\n",
       "      <td>0.022941</td>\n",
       "      <td>0.036898</td>\n",
       "      <td>0.009279</td>\n",
       "      <td>0.111445</td>\n",
       "      <td>0.032079</td>\n",
       "      <td>0.080240</td>\n",
       "      <td>1.000000</td>\n",
       "      <td>0.113958</td>\n",
       "      <td>0.079028</td>\n",
       "      <td>0.044426</td>\n",
       "      <td>0.079570</td>\n",
       "      <td>-0.198697</td>\n",
       "    </tr>\n",
       "    <tr>\n",
       "      <td>Month_to_end_contract</td>\n",
       "      <td>-0.001281</td>\n",
       "      <td>0.143961</td>\n",
       "      <td>0.294632</td>\n",
       "      <td>0.239553</td>\n",
       "      <td>-0.011196</td>\n",
       "      <td>0.973064</td>\n",
       "      <td>0.163703</td>\n",
       "      <td>0.134511</td>\n",
       "      <td>0.113958</td>\n",
       "      <td>1.000000</td>\n",
       "      <td>0.161078</td>\n",
       "      <td>0.085387</td>\n",
       "      <td>0.147605</td>\n",
       "      <td>-0.381393</td>\n",
       "    </tr>\n",
       "    <tr>\n",
       "      <td>Lifetime</td>\n",
       "      <td>0.013579</td>\n",
       "      <td>0.070921</td>\n",
       "      <td>0.061229</td>\n",
       "      <td>0.072721</td>\n",
       "      <td>-0.018801</td>\n",
       "      <td>0.170725</td>\n",
       "      <td>0.075853</td>\n",
       "      <td>0.164693</td>\n",
       "      <td>0.079028</td>\n",
       "      <td>0.161078</td>\n",
       "      <td>1.000000</td>\n",
       "      <td>0.112338</td>\n",
       "      <td>0.181975</td>\n",
       "      <td>-0.438220</td>\n",
       "    </tr>\n",
       "    <tr>\n",
       "      <td>Avg_class_frequency_total</td>\n",
       "      <td>0.014620</td>\n",
       "      <td>0.043127</td>\n",
       "      <td>0.024938</td>\n",
       "      <td>0.028063</td>\n",
       "      <td>0.008340</td>\n",
       "      <td>0.096211</td>\n",
       "      <td>0.056695</td>\n",
       "      <td>0.119953</td>\n",
       "      <td>0.044426</td>\n",
       "      <td>0.085387</td>\n",
       "      <td>0.112338</td>\n",
       "      <td>1.000000</td>\n",
       "      <td>0.952739</td>\n",
       "      <td>-0.249715</td>\n",
       "    </tr>\n",
       "    <tr>\n",
       "      <td>Avg_class_frequency_current_month</td>\n",
       "      <td>0.009156</td>\n",
       "      <td>0.062664</td>\n",
       "      <td>0.045561</td>\n",
       "      <td>0.053768</td>\n",
       "      <td>0.013375</td>\n",
       "      <td>0.159407</td>\n",
       "      <td>0.075923</td>\n",
       "      <td>0.183095</td>\n",
       "      <td>0.079570</td>\n",
       "      <td>0.147605</td>\n",
       "      <td>0.181975</td>\n",
       "      <td>0.952739</td>\n",
       "      <td>1.000000</td>\n",
       "      <td>-0.412348</td>\n",
       "    </tr>\n",
       "    <tr>\n",
       "      <td>Churn</td>\n",
       "      <td>0.000708</td>\n",
       "      <td>-0.128098</td>\n",
       "      <td>-0.157986</td>\n",
       "      <td>-0.162233</td>\n",
       "      <td>-0.001177</td>\n",
       "      <td>-0.389984</td>\n",
       "      <td>-0.175325</td>\n",
       "      <td>-0.404735</td>\n",
       "      <td>-0.198697</td>\n",
       "      <td>-0.381393</td>\n",
       "      <td>-0.438220</td>\n",
       "      <td>-0.249715</td>\n",
       "      <td>-0.412348</td>\n",
       "      <td>1.000000</td>\n",
       "    </tr>\n",
       "  </tbody>\n",
       "</table>\n",
       "</div>"
      ],
      "text/plain": [
       "                                     gender  Near_Location   Partner  \\\n",
       "gender                             1.000000       0.006699 -0.010463   \n",
       "Near_Location                      0.006699       1.000000 -0.005119   \n",
       "Partner                           -0.010463      -0.005119  1.000000   \n",
       "Promo_friends                     -0.005033       0.210964  0.451960   \n",
       "Phone                             -0.008542      -0.015763  0.009970   \n",
       "Contract_period                    0.000502       0.150233  0.306166   \n",
       "Group_visits                       0.017879       0.154728  0.022710   \n",
       "Age                                0.013807       0.058358  0.047480   \n",
       "Avg_additional_charges_total      -0.009334       0.040761  0.022941   \n",
       "Month_to_end_contract             -0.001281       0.143961  0.294632   \n",
       "Lifetime                           0.013579       0.070921  0.061229   \n",
       "Avg_class_frequency_total          0.014620       0.043127  0.024938   \n",
       "Avg_class_frequency_current_month  0.009156       0.062664  0.045561   \n",
       "Churn                              0.000708      -0.128098 -0.157986   \n",
       "\n",
       "                                   Promo_friends     Phone  Contract_period  \\\n",
       "gender                                 -0.005033 -0.008542         0.000502   \n",
       "Near_Location                           0.210964 -0.015763         0.150233   \n",
       "Partner                                 0.451960  0.009970         0.306166   \n",
       "Promo_friends                           1.000000  0.001982         0.244552   \n",
       "Phone                                   0.001982  1.000000        -0.006893   \n",
       "Contract_period                         0.244552 -0.006893         1.000000   \n",
       "Group_visits                            0.120170 -0.010099         0.169991   \n",
       "Age                                     0.050113 -0.011403         0.138249   \n",
       "Avg_additional_charges_total            0.036898  0.009279         0.111445   \n",
       "Month_to_end_contract                   0.239553 -0.011196         0.973064   \n",
       "Lifetime                                0.072721 -0.018801         0.170725   \n",
       "Avg_class_frequency_total               0.028063  0.008340         0.096211   \n",
       "Avg_class_frequency_current_month       0.053768  0.013375         0.159407   \n",
       "Churn                                  -0.162233 -0.001177        -0.389984   \n",
       "\n",
       "                                   Group_visits       Age  \\\n",
       "gender                                 0.017879  0.013807   \n",
       "Near_Location                          0.154728  0.058358   \n",
       "Partner                                0.022710  0.047480   \n",
       "Promo_friends                          0.120170  0.050113   \n",
       "Phone                                 -0.010099 -0.011403   \n",
       "Contract_period                        0.169991  0.138249   \n",
       "Group_visits                           1.000000  0.080934   \n",
       "Age                                    0.080934  1.000000   \n",
       "Avg_additional_charges_total           0.032079  0.080240   \n",
       "Month_to_end_contract                  0.163703  0.134511   \n",
       "Lifetime                               0.075853  0.164693   \n",
       "Avg_class_frequency_total              0.056695  0.119953   \n",
       "Avg_class_frequency_current_month      0.075923  0.183095   \n",
       "Churn                                 -0.175325 -0.404735   \n",
       "\n",
       "                                   Avg_additional_charges_total  \\\n",
       "gender                                                -0.009334   \n",
       "Near_Location                                          0.040761   \n",
       "Partner                                                0.022941   \n",
       "Promo_friends                                          0.036898   \n",
       "Phone                                                  0.009279   \n",
       "Contract_period                                        0.111445   \n",
       "Group_visits                                           0.032079   \n",
       "Age                                                    0.080240   \n",
       "Avg_additional_charges_total                           1.000000   \n",
       "Month_to_end_contract                                  0.113958   \n",
       "Lifetime                                               0.079028   \n",
       "Avg_class_frequency_total                              0.044426   \n",
       "Avg_class_frequency_current_month                      0.079570   \n",
       "Churn                                                 -0.198697   \n",
       "\n",
       "                                   Month_to_end_contract  Lifetime  \\\n",
       "gender                                         -0.001281  0.013579   \n",
       "Near_Location                                   0.143961  0.070921   \n",
       "Partner                                         0.294632  0.061229   \n",
       "Promo_friends                                   0.239553  0.072721   \n",
       "Phone                                          -0.011196 -0.018801   \n",
       "Contract_period                                 0.973064  0.170725   \n",
       "Group_visits                                    0.163703  0.075853   \n",
       "Age                                             0.134511  0.164693   \n",
       "Avg_additional_charges_total                    0.113958  0.079028   \n",
       "Month_to_end_contract                           1.000000  0.161078   \n",
       "Lifetime                                        0.161078  1.000000   \n",
       "Avg_class_frequency_total                       0.085387  0.112338   \n",
       "Avg_class_frequency_current_month               0.147605  0.181975   \n",
       "Churn                                          -0.381393 -0.438220   \n",
       "\n",
       "                                   Avg_class_frequency_total  \\\n",
       "gender                                              0.014620   \n",
       "Near_Location                                       0.043127   \n",
       "Partner                                             0.024938   \n",
       "Promo_friends                                       0.028063   \n",
       "Phone                                               0.008340   \n",
       "Contract_period                                     0.096211   \n",
       "Group_visits                                        0.056695   \n",
       "Age                                                 0.119953   \n",
       "Avg_additional_charges_total                        0.044426   \n",
       "Month_to_end_contract                               0.085387   \n",
       "Lifetime                                            0.112338   \n",
       "Avg_class_frequency_total                           1.000000   \n",
       "Avg_class_frequency_current_month                   0.952739   \n",
       "Churn                                              -0.249715   \n",
       "\n",
       "                                   Avg_class_frequency_current_month     Churn  \n",
       "gender                                                      0.009156  0.000708  \n",
       "Near_Location                                               0.062664 -0.128098  \n",
       "Partner                                                     0.045561 -0.157986  \n",
       "Promo_friends                                               0.053768 -0.162233  \n",
       "Phone                                                       0.013375 -0.001177  \n",
       "Contract_period                                             0.159407 -0.389984  \n",
       "Group_visits                                                0.075923 -0.175325  \n",
       "Age                                                         0.183095 -0.404735  \n",
       "Avg_additional_charges_total                                0.079570 -0.198697  \n",
       "Month_to_end_contract                                       0.147605 -0.381393  \n",
       "Lifetime                                                    0.181975 -0.438220  \n",
       "Avg_class_frequency_total                                   0.952739 -0.249715  \n",
       "Avg_class_frequency_current_month                           1.000000 -0.412348  \n",
       "Churn                                                      -0.412348  1.000000  "
      ]
     },
     "metadata": {},
     "output_type": "display_data"
    }
   ],
   "source": [
    "corrMatrix = gym_churn_us.corr()\n",
    "display(corrMatrix)"
   ]
  },
  {
   "cell_type": "markdown",
   "metadata": {},
   "source": [
    "We can see that the coefficient of correlation between the phone and contract_period variables is -0.006893. This indicates that there is a relatively weak, negative relationship between the two variables."
   ]
  },
  {
   "cell_type": "markdown",
   "metadata": {},
   "source": [
    "**Displaing a correlation matrix:**"
   ]
  },
  {
   "cell_type": "code",
   "execution_count": 13,
   "metadata": {
    "scrolled": false
   },
   "outputs": [
    {
     "data": {
      "image/png": "[encoded data removed]",
      "text/plain": [
       "<Figure size 432x288 with 2 Axes>"
      ]
     },
     "metadata": {
      "needs_background": "light"
     },
     "output_type": "display_data"
    },
    {
     "data": {
      "text/plain": [
       "<Figure size 1800x1800 with 0 Axes>"
      ]
     },
     "metadata": {},
     "output_type": "display_data"
    }
   ],
   "source": [
    "sns.heatmap(corrMatrix, square = True, annot = True)\n",
    "plt.figure(figsize = (25,25))\n",
    "plt.show()"
   ]
  },
  {
   "cell_type": "markdown",
   "metadata": {},
   "source": [
    "-  In the \"gym_churn_us\" dataset, there are no missing values.\n",
    "-  Considering 1 value for male and 0 value for female we can say that the number of male is more compared to female.\n",
    "-  Considering the 0 value for chuen left and 1 value for churn stayed we can say that more customers are left compared to the customers who stayed.\n",
    "-  Mean is for gender 0.510250, Near_Location 0.845250, Partner 0.486750, Promo_friends 0.308500, Phone 0.903500, Contract_period 4.681250, Group_visits 0.412250, Age 29.184250, Avg_additional_charges_total 146.943728, Month_to_end_contract 4.322750, Lifetime 3.724750, Avg_class_frequency_total 1.879020, Avg_class_frequency_current_month\t1.767052 and Churn 0.265250.\n",
    "-  Standard deviation is for gender 0.499957, Near_Location 0.361711, Partner 0.499887, Promo_friends 0.461932, Phone 0.295313, Contract_period 4.549706, Group_visits 0.492301, Age 3.258367, Avg_additional_charges_total 96.355602, Month_to_end_contract 4.191297, Lifetime 3.749267, Avg_class_frequency_total 0.972245, Avg_class_frequency_current_month 1.052906 and Churn 0.441521.\n",
    "-  The 'gym_churn_us' dataset is divided into two parts for those who left (churn = 0) and for those who stayed (churn = 1).\n",
    "-  From the above two histograms, we can conclude that for numerical features churn customers and not churn customers are equally distributed.\n",
    "-  For categorical features churn customers and not churn customers 'gender' and 'phone' features are equally distributed but other features are not.\n",
    "-  We can see that the coefficient of correlation between the phone and contract_period variables is -0.006893. This indicates that there is a relatively weak, negative relationship between the two variables."
   ]
  },
  {
   "cell_type": "markdown",
   "metadata": {},
   "source": [
    "<a id='the_destination3'></a>\n",
    "# Step 3. Build a model to predict user churn"
   ]
  },
  {
   "cell_type": "markdown",
   "metadata": {},
   "source": [
    "**Dividing the data into train and validation sets using the train_test_split() function:**"
   ]
  },
  {
   "cell_type": "code",
   "execution_count": 14,
   "metadata": {},
   "outputs": [],
   "source": [
    "X = gym_churn_us.drop('Churn', axis = 1)\n",
    "y = gym_churn_us['Churn']\n",
    "X_train, X_test, y_train, y_test = train_test_split(X, y, test_size=0.2, random_state=0)"
   ]
  },
  {
   "cell_type": "markdown",
   "metadata": {},
   "source": [
    "**Defining the logistic regression model, training and forcasting:**"
   ]
  },
  {
   "cell_type": "code",
   "execution_count": 15,
   "metadata": {},
   "outputs": [],
   "source": [
    "warnings.filterwarnings('ignore')\n",
    "model_LR = LogisticRegression(random_state=0)\n",
    "model_LR.fit(X_train, y_train)\n",
    "predictions_LR = model_LR.predict(X_test)"
   ]
  },
  {
   "cell_type": "markdown",
   "metadata": {},
   "source": [
    "**Defining the random forest model, training and forcasting:**"
   ]
  },
  {
   "cell_type": "code",
   "execution_count": 16,
   "metadata": {},
   "outputs": [],
   "source": [
    "model_RF = (RandomForestClassifier(random_state=0))\n",
    "model_RF.fit(X_train, y_train) \n",
    "predictions_RF = model_RF.predict(X_test)"
   ]
  },
  {
   "cell_type": "markdown",
   "metadata": {},
   "source": [
    "**Printing the metrics for the resulting prediction of logistic Regression model:**"
   ]
  },
  {
   "cell_type": "code",
   "execution_count": 17,
   "metadata": {},
   "outputs": [
    {
     "name": "stdout",
     "output_type": "stream",
     "text": [
      "Accuracy: 0.93\n",
      "Precision: 0.86\n",
      "Recall: 0.83\n",
      "F1: 0.85\n"
     ]
    }
   ],
   "source": [
    "print('Accuracy: {:.2f}'.format(accuracy_score(y_test, predictions_LR)))\n",
    "print('Precision: {:.2f}'.format(precision_score(y_test, predictions_LR)))\n",
    "print('Recall: {:.2f}'.format(recall_score(y_test, predictions_LR)))\n",
    "print('F1: {:.2f}'.format(f1_score(y_test, predictions_LR)))"
   ]
  },
  {
   "cell_type": "markdown",
   "metadata": {},
   "source": [
    "Logistic regression model has accuracy 93%, precision 86%, reacll 83% and F1 85%."
   ]
  },
  {
   "cell_type": "markdown",
   "metadata": {},
   "source": [
    "**Printing the metrics for the resulting prediction of random forest model:**"
   ]
  },
  {
   "cell_type": "code",
   "execution_count": 18,
   "metadata": {},
   "outputs": [
    {
     "name": "stdout",
     "output_type": "stream",
     "text": [
      "Accuracy: 0.91\n",
      "Precision: 0.83\n",
      "Recall: 0.78\n",
      "F1: 0.81\n"
     ]
    }
   ],
   "source": [
    "print('Accuracy: {:.2f}'.format(accuracy_score(y_test, predictions_RF)))\n",
    "print('Precision: {:.2f}'.format(precision_score(y_test, predictions_RF)))\n",
    "print('Recall: {:.2f}'.format(recall_score(y_test, predictions_RF)))\n",
    "print('F1: {:.2f}'.format(f1_score(y_test, predictions_RF)))"
   ]
  },
  {
   "cell_type": "markdown",
   "metadata": {},
   "source": [
    "Random forest model has accuracy 91%, precision 83%, reacll 78% and F1 81%."
   ]
  },
  {
   "cell_type": "markdown",
   "metadata": {},
   "source": [
    "Comapring with the logistic regression model and random forest model, we can say that logistic regression model gives us better accuracy, precision, recall and F1 score. "
   ]
  },
  {
   "cell_type": "markdown",
   "metadata": {},
   "source": [
    "-  Logistic regression model has accuracy 93%, precision 86%, reacll 83% and F1 85%.\n",
    "-  Random forest model has accuracy 91%, precision 83%, reacll 78% and F1 81%.\n",
    "-  Comapring with the logistic regression model and random forest model, we can say that logistic regression model gives us better accuracy, precision, recall and F1 score."
   ]
  },
  {
   "cell_type": "markdown",
   "metadata": {},
   "source": [
    "<a id='the_destination4'></a>\n",
    "# Step 4. Create user clusters"
   ]
  },
  {
   "cell_type": "markdown",
   "metadata": {},
   "source": [
    "**Standardize the data:**"
   ]
  },
  {
   "cell_type": "code",
   "execution_count": 19,
   "metadata": {},
   "outputs": [],
   "source": [
    "scaler = StandardScaler()\n",
    "x_sc = scaler.fit_transform(gym_churn_us)"
   ]
  },
  {
   "cell_type": "markdown",
   "metadata": {},
   "source": [
    "**Building a matrix of distances based on the standardized feature matrix and plotting a dendrogram:**"
   ]
  },
  {
   "cell_type": "code",
   "execution_count": 20,
   "metadata": {},
   "outputs": [
    {
     "data": {
      "image/png": "[encoded data removed]",
      "text/plain": [
       "<Figure size 1080x720 with 1 Axes>"
      ]
     },
     "metadata": {
      "needs_background": "light"
     },
     "output_type": "display_data"
    }
   ],
   "source": [
    "linked = linkage(x_sc, method = 'ward') \n",
    "plt.figure(figsize=(15, 10))  \n",
    "dendrogram(linked, orientation='top')\n",
    "plt.title('Hierarchical clustering for GYM')\n",
    "plt.show() "
   ]
  },
  {
   "cell_type": "markdown",
   "metadata": {},
   "source": [
    "The suggested optimal number of clusters (5) corresponds to the five different colors on the plot."
   ]
  },
  {
   "cell_type": "markdown",
   "metadata": {},
   "source": [
    "**Training the clustering model with the K-means algorithm and predict customer clusters:**"
   ]
  },
  {
   "cell_type": "code",
   "execution_count": 21,
   "metadata": {},
   "outputs": [],
   "source": [
    "km = KMeans(n_clusters = 5)\n",
    "km.fit(X)\n",
    "labels = km.fit_predict(x_sc)"
   ]
  },
  {
   "cell_type": "markdown",
   "metadata": {},
   "source": [
    "**Determining the mean feature values for clusters:**"
   ]
  },
  {
   "cell_type": "code",
   "execution_count": 22,
   "metadata": {},
   "outputs": [
    {
     "data": {
      "text/html": [
       "<div>\n",
       "<style scoped>\n",
       "    .dataframe tbody tr th:only-of-type {\n",
       "        vertical-align: middle;\n",
       "    }\n",
       "\n",
       "    .dataframe tbody tr th {\n",
       "        vertical-align: top;\n",
       "    }\n",
       "\n",
       "    .dataframe thead th {\n",
       "        text-align: right;\n",
       "    }\n",
       "</style>\n",
       "<table border=\"1\" class=\"dataframe\">\n",
       "  <thead>\n",
       "    <tr style=\"text-align: right;\">\n",
       "      <th></th>\n",
       "      <th>gender</th>\n",
       "      <th>Near_Location</th>\n",
       "      <th>Partner</th>\n",
       "      <th>Promo_friends</th>\n",
       "      <th>Phone</th>\n",
       "      <th>Contract_period</th>\n",
       "      <th>Group_visits</th>\n",
       "      <th>Age</th>\n",
       "      <th>Avg_additional_charges_total</th>\n",
       "      <th>Month_to_end_contract</th>\n",
       "      <th>Lifetime</th>\n",
       "      <th>Avg_class_frequency_total</th>\n",
       "      <th>Avg_class_frequency_current_month</th>\n",
       "      <th>Churn</th>\n",
       "    </tr>\n",
       "    <tr>\n",
       "      <th>cluster_km</th>\n",
       "      <th></th>\n",
       "      <th></th>\n",
       "      <th></th>\n",
       "      <th></th>\n",
       "      <th></th>\n",
       "      <th></th>\n",
       "      <th></th>\n",
       "      <th></th>\n",
       "      <th></th>\n",
       "      <th></th>\n",
       "      <th></th>\n",
       "      <th></th>\n",
       "      <th></th>\n",
       "      <th></th>\n",
       "    </tr>\n",
       "  </thead>\n",
       "  <tbody>\n",
       "    <tr>\n",
       "      <td>0</td>\n",
       "      <td>0.526042</td>\n",
       "      <td>0.867188</td>\n",
       "      <td>0.471354</td>\n",
       "      <td>0.307292</td>\n",
       "      <td>0.000000</td>\n",
       "      <td>4.796875</td>\n",
       "      <td>0.429688</td>\n",
       "      <td>29.328125</td>\n",
       "      <td>144.408268</td>\n",
       "      <td>4.484375</td>\n",
       "      <td>3.960938</td>\n",
       "      <td>1.862114</td>\n",
       "      <td>1.731358</td>\n",
       "      <td>0.263021</td>\n",
       "    </tr>\n",
       "    <tr>\n",
       "      <td>1</td>\n",
       "      <td>0.514034</td>\n",
       "      <td>0.999198</td>\n",
       "      <td>0.337610</td>\n",
       "      <td>0.219727</td>\n",
       "      <td>1.000000</td>\n",
       "      <td>2.298316</td>\n",
       "      <td>0.448276</td>\n",
       "      <td>30.176423</td>\n",
       "      <td>160.280025</td>\n",
       "      <td>2.162791</td>\n",
       "      <td>4.867682</td>\n",
       "      <td>2.123560</td>\n",
       "      <td>2.125643</td>\n",
       "      <td>0.003208</td>\n",
       "    </tr>\n",
       "    <tr>\n",
       "      <td>2</td>\n",
       "      <td>0.509138</td>\n",
       "      <td>1.000000</td>\n",
       "      <td>0.332898</td>\n",
       "      <td>0.227154</td>\n",
       "      <td>1.000000</td>\n",
       "      <td>1.647520</td>\n",
       "      <td>0.284595</td>\n",
       "      <td>26.912533</td>\n",
       "      <td>115.138263</td>\n",
       "      <td>1.595300</td>\n",
       "      <td>1.060052</td>\n",
       "      <td>1.403715</td>\n",
       "      <td>1.007961</td>\n",
       "      <td>0.933420</td>\n",
       "    </tr>\n",
       "    <tr>\n",
       "      <td>3</td>\n",
       "      <td>0.507380</td>\n",
       "      <td>0.955720</td>\n",
       "      <td>0.784133</td>\n",
       "      <td>0.579336</td>\n",
       "      <td>1.000000</td>\n",
       "      <td>10.671587</td>\n",
       "      <td>0.548893</td>\n",
       "      <td>29.903137</td>\n",
       "      <td>160.191701</td>\n",
       "      <td>9.714945</td>\n",
       "      <td>4.636531</td>\n",
       "      <td>2.012441</td>\n",
       "      <td>2.007485</td>\n",
       "      <td>0.013838</td>\n",
       "    </tr>\n",
       "    <tr>\n",
       "      <td>4</td>\n",
       "      <td>0.497110</td>\n",
       "      <td>0.000000</td>\n",
       "      <td>0.462428</td>\n",
       "      <td>0.077071</td>\n",
       "      <td>0.996146</td>\n",
       "      <td>2.287091</td>\n",
       "      <td>0.215800</td>\n",
       "      <td>28.545279</td>\n",
       "      <td>136.048617</td>\n",
       "      <td>2.156069</td>\n",
       "      <td>2.832370</td>\n",
       "      <td>1.726813</td>\n",
       "      <td>1.550053</td>\n",
       "      <td>0.435453</td>\n",
       "    </tr>\n",
       "  </tbody>\n",
       "</table>\n",
       "</div>"
      ],
      "text/plain": [
       "              gender  Near_Location   Partner  Promo_friends     Phone  \\\n",
       "cluster_km                                                               \n",
       "0           0.526042       0.867188  0.471354       0.307292  0.000000   \n",
       "1           0.514034       0.999198  0.337610       0.219727  1.000000   \n",
       "2           0.509138       1.000000  0.332898       0.227154  1.000000   \n",
       "3           0.507380       0.955720  0.784133       0.579336  1.000000   \n",
       "4           0.497110       0.000000  0.462428       0.077071  0.996146   \n",
       "\n",
       "            Contract_period  Group_visits        Age  \\\n",
       "cluster_km                                             \n",
       "0                  4.796875      0.429688  29.328125   \n",
       "1                  2.298316      0.448276  30.176423   \n",
       "2                  1.647520      0.284595  26.912533   \n",
       "3                 10.671587      0.548893  29.903137   \n",
       "4                  2.287091      0.215800  28.545279   \n",
       "\n",
       "            Avg_additional_charges_total  Month_to_end_contract  Lifetime  \\\n",
       "cluster_km                                                                  \n",
       "0                             144.408268               4.484375  3.960938   \n",
       "1                             160.280025               2.162791  4.867682   \n",
       "2                             115.138263               1.595300  1.060052   \n",
       "3                             160.191701               9.714945  4.636531   \n",
       "4                             136.048617               2.156069  2.832370   \n",
       "\n",
       "            Avg_class_frequency_total  Avg_class_frequency_current_month  \\\n",
       "cluster_km                                                                 \n",
       "0                            1.862114                           1.731358   \n",
       "1                            2.123560                           2.125643   \n",
       "2                            1.403715                           1.007961   \n",
       "3                            2.012441                           2.007485   \n",
       "4                            1.726813                           1.550053   \n",
       "\n",
       "               Churn  \n",
       "cluster_km            \n",
       "0           0.263021  \n",
       "1           0.003208  \n",
       "2           0.933420  \n",
       "3           0.013838  \n",
       "4           0.435453  "
      ]
     },
     "execution_count": 22,
     "metadata": {},
     "output_type": "execute_result"
    }
   ],
   "source": [
    "# store cluster labels in the field of our dataset\n",
    "gym_churn_us['cluster_km'] = labels\n",
    "# get the statistics of the mean feature values per cluster\n",
    "gym_churn_us.groupby('cluster_km').mean()"
   ]
  },
  {
   "cell_type": "markdown",
   "metadata": {},
   "source": [
    "- In cluster 2, age between 26 and 27 customers are more likely stayed in churn and that is almost 100%.\n",
    "- In cluster 5, 76% of the the user is an employee of a partner company.\n",
    "- From all of the five clusters we can see almost 50% are male and 50% are female.\n",
    "- Except cluster 2 , other clusters has lifetime  value 4 months."
   ]
  },
  {
   "cell_type": "markdown",
   "metadata": {},
   "source": [
    "**Plotting the distributions of features for the clusters:**"
   ]
  },
  {
   "cell_type": "code",
   "execution_count": 23,
   "metadata": {},
   "outputs": [
    {
     "data": {
      "image/png": "[encoded data removed]",
      "text/plain": [
       "<Figure size 432x288 with 1 Axes>"
      ]
     },
     "metadata": {
      "needs_background": "light"
     },
     "output_type": "display_data"
    }
   ],
   "source": [
    "gym_churn_us[gym_churn_us['cluster_km'] == 0].gender.plot.hist()\n",
    "plt.show()"
   ]
  },
  {
   "cell_type": "code",
   "execution_count": 24,
   "metadata": {},
   "outputs": [
    {
     "data": {
      "image/png": "[encoded data removed]",
      "text/plain": [
       "<Figure size 432x288 with 1 Axes>"
      ]
     },
     "metadata": {
      "needs_background": "light"
     },
     "output_type": "display_data"
    }
   ],
   "source": [
    "gym_churn_us[gym_churn_us['cluster_km'] == 1].gender.plot.hist()\n",
    "plt.show()"
   ]
  },
  {
   "cell_type": "code",
   "execution_count": 25,
   "metadata": {},
   "outputs": [
    {
     "data": {
      "image/png": "[encoded data removed]",
      "text/plain": [
       "<Figure size 432x288 with 1 Axes>"
      ]
     },
     "metadata": {
      "needs_background": "light"
     },
     "output_type": "display_data"
    }
   ],
   "source": [
    "gym_churn_us[gym_churn_us['cluster_km'] == 2].gender.plot.hist()\n",
    "plt.show()"
   ]
  },
  {
   "cell_type": "code",
   "execution_count": 26,
   "metadata": {},
   "outputs": [
    {
     "data": {
      "image/png": "[encoded data removed]",
      "text/plain": [
       "<Figure size 432x288 with 1 Axes>"
      ]
     },
     "metadata": {
      "needs_background": "light"
     },
     "output_type": "display_data"
    }
   ],
   "source": [
    "gym_churn_us[gym_churn_us['cluster_km'] == 3].gender.plot.hist()\n",
    "plt.show()"
   ]
  },
  {
   "cell_type": "code",
   "execution_count": 27,
   "metadata": {
    "scrolled": true
   },
   "outputs": [
    {
     "data": {
      "image/png": "[encoded data removed]",
      "text/plain": [
       "<Figure size 432x288 with 1 Axes>"
      ]
     },
     "metadata": {
      "needs_background": "light"
     },
     "output_type": "display_data"
    }
   ],
   "source": [
    "gym_churn_us[gym_churn_us['cluster_km'] == 4].gender.plot.hist()\n",
    "plt.show()"
   ]
  },
  {
   "cell_type": "markdown",
   "metadata": {},
   "source": [
    "Cluster 2 and cluster 5 have the same number of male and female customers."
   ]
  },
  {
   "cell_type": "markdown",
   "metadata": {},
   "source": [
    "**Calculating the churn rate for each cluster:**"
   ]
  },
  {
   "cell_type": "code",
   "execution_count": 28,
   "metadata": {},
   "outputs": [
    {
     "name": "stdout",
     "output_type": "stream",
     "text": [
      "cluster_km\n",
      "0    0.263021\n",
      "1    0.003208\n",
      "2    0.933420\n",
      "3    0.013838\n",
      "4    0.435453\n",
      "Name: Churn, dtype: float64\n"
     ]
    }
   ],
   "source": [
    "churn_count = gym_churn_us.groupby('cluster_km').sum()[\"Churn\"]\n",
    "churn_total = gym_churn_us.groupby('cluster_km').count()[\"Churn\"]\n",
    "churn_rate = churn_count / churn_total\n",
    "print(churn_rate)"
   ]
  },
  {
   "cell_type": "markdown",
   "metadata": {},
   "source": [
    "Cluster 2 has churn rate almost 100% but the other clusters churn rate is very rare compared to the claster 2."
   ]
  },
  {
   "cell_type": "markdown",
   "metadata": {},
   "source": [
    "-  The suggested optimal number of clusters (5) corresponds to the five different colors on the plot.\n",
    "- In cluster 2, age between 26 and 27 customers are more likely stayed in churn and that is almost 100%.\n",
    "- In cluster 5, 76% of the the user is an employee of a partner company.\n",
    "- From all of the five clusters we can see almost 50% are male and 50% are female.\n",
    "-  Cluster 2 and cluster 5 have the same number of male and female customers.\n",
    "- Except cluster 2 , other clusters has lifetime  value 4 months.\n",
    "-  Cluster 2 has churn rate almost 100% but the other clusters churn rate is very rare compared to the claster 2."
   ]
  },
  {
   "cell_type": "markdown",
   "metadata": {},
   "source": [
    "<a id='the_destination5'></a>\n",
    "# Step 5. Come up with conclusions and basic recommendations on working with customers"
   ]
  },
  {
   "cell_type": "markdown",
   "metadata": {},
   "source": [
    "-  Although age between 26 and 27 customers are more likely to stay with churn. So on business purpose we should do marketing for incresing customers with the other aged customers except 26 and 27. \n",
    "-  Cluster 2 has lifetime value is less than one month. So we should try to reach 4 moths like other clusters.\n",
    "- In cluster 1, cluster 2, cluster 3, cluster 4, cluster 5 have 46%, 34%, 44%, 37%, 76% of the user is an employee of a partner company.We should try to increse user for cluster 1, cluster 2, cluster 3, cluster 4 an employee of a partner company like cluster 5."
   ]
  },
  {
   "cell_type": "markdown",
   "metadata": {},
   "source": [
    "<a id='the_destination6'></a>\n",
    "# Step 6. Overall conclusion"
   ]
  },
  {
   "cell_type": "markdown",
   "metadata": {},
   "source": [
    "-  In the \"gym_churn_us\" dataset, there are 4000 rows and 15 columns. Columns name are \"gender\", \"Near_Location\", \"Partner\", \"Promo_friends\", \"Phone\", \"Contract_period\", \"Group_visits\", \"Age\", \"Avg_additional_charges_total\", \"Month_to_end_contract\", \"Lifetime\", \"Avg_class_frequency_total\", \"Avg_class_frequency_current_month\" and \"Churn\".\n",
    "-  In the \"gym_churn_us\" dataset, \"gender\", \"Near_Location\", \"Partner\", \"Promo_friends\", \"Phone\", \"Contract_period\", \"Group_visits\", \"Age\", \"Lifetime\" and \"Churn\" columns are integer datatype. Rest of the columns are float datatypes.\n",
    "-  Our data falls under two categories:\n",
    "-  Categorical features: 'gender', 'Near_Location', 'Partner', 'Promo_friends', 'Phone', 'Group_visits' and 'Churn'.\n",
    "-  Numerical features: 'Contract_period', 'Age', 'Avg_additional_charges_total', 'Month_to_end_contract','Lifetime', 'Avg_class_frequency_total' and 'Avg_class_frequency_current_month'.\n",
    "-  In the \"gym_churn_us\" dataset, there are no missing values.\n",
    "-  Considering 1 value for male and 0 value for female we can say that the number of male is more compared to female.\n",
    "-  Considering the 0 value for chuen left and 1 value for churn stayed we can say that more customers are left compared to the customers who stayed.\n",
    "-  Mean is for gender 0.510250, Near_Location 0.845250, Partner 0.486750, Promo_friends 0.308500, Phone 0.903500, Contract_period 4.681250, Group_visits 0.412250, Age 29.184250, Avg_additional_charges_total 146.943728, Month_to_end_contract 4.322750, Lifetime 3.724750, Avg_class_frequency_total 1.879020, Avg_class_frequency_current_month\t1.767052 and Churn 0.265250.\n",
    "-  Standard deviation is for gender 0.499957, Near_Location 0.361711, Partner 0.499887, Promo_friends 0.461932, Phone 0.295313, Contract_period 4.549706, Group_visits 0.492301, Age 3.258367, Avg_additional_charges_total 96.355602, Month_to_end_contract 4.191297, Lifetime 3.749267, Avg_class_frequency_total 0.972245, Avg_class_frequency_current_month 1.052906 and Churn 0.441521.\n",
    "-  The 'gym_churn_us' dataset is divided into two parts for those who left (churn = 0) and for those who stayed (churn = 1).\n",
    "-  From the above two histograms, we can conclude that for numerical features churn customers and not churn customers are equally distributed.\n",
    "-  For categorical features churn customers and not churn customers 'gender' and 'phone' features are equally distributed but other features are not.\n",
    "-  We can see that the coefficient of correlation between the phone and contract_period variables is -0.006893. This indicates that there is a relatively weak, negative relationship between the two variables.\n",
    "-  Logistic regression model has accuracy 93%, precision 86%, reacll 83% and F1 85%.\n",
    "-  Random forest model has accuracy 91%, precision 83%, reacll 78% and F1 81%.\n",
    "-  Comapring with the logistic regression model and random forest model, we can say that logistic regression model gives us better accuracy, precision, recall and F1 score.\n",
    "-  The suggested optimal number of clusters (5) corresponds to the five different colors on the plot.\n",
    "- In cluster 2, age between 26 and 27 customers are more likely stayed in churn and that is almost 100%.\n",
    "- In cluster 5, 76% of the the user is an employee of a partner company.\n",
    "- From all of the five clusters we can see almost 50% are male and 50% are female.\n",
    "-  Cluster 2 and cluster 5 have the same number of male and female customers.\n",
    "- Except cluster 2 , other clusters has lifetime  value 4 months.\n",
    "-  Cluster 2 has churn rate almost 100% but the other clusters churn rate is very rare compared to the claster 2.\n",
    "-  Although age between 26 and 27 customers are more likely to stay with churn. So on business purpose we should do marketing for incresing customers with the other aged customers except 26 and 27. \n",
    "-  Cluster 2 has lifetime value is less than one month. So we should try to reach 4 moths like other clusters.\n",
    "- In cluster 1, cluster 2, cluster 3, cluster 4, cluster 5 have 46%, 34%, 44%, 37%, 76% of the user is an employee of a partner company.We should try to increse user for cluster 1, cluster 2, cluster 3, cluster 4 an employee of a partner company like cluster 5."
   ]
  },
  {
   "cell_type": "code",
   "execution_count": null,
   "metadata": {},
   "outputs": [],
   "source": []
  }
 ],
 "metadata": {
  "ExecuteTimeLog": [
   {
    "duration": 600,
    "start_time": "2021-12-31T15:30:29.398Z"
   },
   {
    "duration": 712,
    "start_time": "2021-12-31T15:30:38.058Z"
   },
   {
    "duration": 95,
    "start_time": "2021-12-31T15:30:38.772Z"
   },
   {
    "duration": 8,
    "start_time": "2021-12-31T15:33:50.846Z"
   },
   {
    "duration": 558,
    "start_time": "2021-12-31T15:35:39.464Z"
   },
   {
    "duration": 7,
    "start_time": "2021-12-31T15:35:48.311Z"
   },
   {
    "duration": 696,
    "start_time": "2021-12-31T15:48:05.633Z"
   },
   {
    "duration": 53,
    "start_time": "2021-12-31T15:48:06.332Z"
   },
   {
    "duration": 6,
    "start_time": "2021-12-31T15:48:06.389Z"
   },
   {
    "duration": 24,
    "start_time": "2021-12-31T15:48:06.398Z"
   },
   {
    "duration": 68,
    "start_time": "2021-12-31T15:49:18.010Z"
   },
   {
    "duration": 28,
    "start_time": "2021-12-31T15:51:12.207Z"
   },
   {
    "duration": 414,
    "start_time": "2021-12-31T15:55:00.361Z"
   },
   {
    "duration": 1533,
    "start_time": "2021-12-31T15:55:08.570Z"
   },
   {
    "duration": 50,
    "start_time": "2021-12-31T15:55:10.106Z"
   },
   {
    "duration": 8,
    "start_time": "2021-12-31T15:55:10.158Z"
   },
   {
    "duration": 10,
    "start_time": "2021-12-31T15:55:10.169Z"
   },
   {
    "duration": 99,
    "start_time": "2021-12-31T15:55:10.182Z"
   },
   {
    "duration": 54,
    "start_time": "2021-12-31T15:55:10.285Z"
   },
   {
    "duration": 425,
    "start_time": "2021-12-31T15:55:10.341Z"
   },
   {
    "duration": 24,
    "start_time": "2021-12-31T15:58:08.359Z"
   },
   {
    "duration": 268,
    "start_time": "2021-12-31T15:58:18.531Z"
   },
   {
    "duration": 1476,
    "start_time": "2021-12-31T15:58:41.916Z"
   },
   {
    "duration": 49,
    "start_time": "2021-12-31T15:58:43.395Z"
   },
   {
    "duration": 8,
    "start_time": "2021-12-31T15:58:43.447Z"
   },
   {
    "duration": 7,
    "start_time": "2021-12-31T15:58:43.458Z"
   },
   {
    "duration": 103,
    "start_time": "2021-12-31T15:58:43.468Z"
   },
   {
    "duration": 25,
    "start_time": "2021-12-31T15:58:43.574Z"
   },
   {
    "duration": 1626,
    "start_time": "2021-12-31T15:58:43.617Z"
   },
   {
    "duration": 30,
    "start_time": "2021-12-31T16:00:31.646Z"
   },
   {
    "duration": 1510,
    "start_time": "2021-12-31T16:00:53.592Z"
   },
   {
    "duration": 50,
    "start_time": "2021-12-31T16:00:55.105Z"
   },
   {
    "duration": 7,
    "start_time": "2021-12-31T16:00:55.158Z"
   },
   {
    "duration": 12,
    "start_time": "2021-12-31T16:00:55.167Z"
   },
   {
    "duration": 97,
    "start_time": "2021-12-31T16:00:55.181Z"
   },
   {
    "duration": 41,
    "start_time": "2021-12-31T16:00:55.280Z"
   },
   {
    "duration": 1629,
    "start_time": "2021-12-31T16:00:55.324Z"
   },
   {
    "duration": 52,
    "start_time": "2021-12-31T16:07:28.928Z"
   },
   {
    "duration": 43,
    "start_time": "2021-12-31T16:07:47.191Z"
   },
   {
    "duration": 1461,
    "start_time": "2021-12-31T16:08:26.225Z"
   },
   {
    "duration": 48,
    "start_time": "2021-12-31T16:08:27.688Z"
   },
   {
    "duration": 7,
    "start_time": "2021-12-31T16:08:27.739Z"
   },
   {
    "duration": 8,
    "start_time": "2021-12-31T16:08:27.748Z"
   },
   {
    "duration": 108,
    "start_time": "2021-12-31T16:08:27.759Z"
   },
   {
    "duration": 26,
    "start_time": "2021-12-31T16:08:27.870Z"
   },
   {
    "duration": 1541,
    "start_time": "2021-12-31T16:08:27.899Z"
   },
   {
    "duration": 1433,
    "start_time": "2021-12-31T16:11:47.850Z"
   },
   {
    "duration": 48,
    "start_time": "2021-12-31T16:11:49.286Z"
   },
   {
    "duration": 7,
    "start_time": "2021-12-31T16:11:49.337Z"
   },
   {
    "duration": 8,
    "start_time": "2021-12-31T16:11:49.347Z"
   },
   {
    "duration": 95,
    "start_time": "2021-12-31T16:11:49.358Z"
   },
   {
    "duration": 26,
    "start_time": "2021-12-31T16:11:49.456Z"
   },
   {
    "duration": 1542,
    "start_time": "2021-12-31T16:11:49.484Z"
   },
   {
    "duration": 606,
    "start_time": "2021-12-31T16:51:29.970Z"
   },
   {
    "duration": 1629,
    "start_time": "2021-12-31T16:51:44.404Z"
   },
   {
    "duration": 633,
    "start_time": "2021-12-31T16:53:22.355Z"
   },
   {
    "duration": 1596,
    "start_time": "2021-12-31T16:53:56.933Z"
   },
   {
    "duration": 562,
    "start_time": "2021-12-31T16:54:28.931Z"
   },
   {
    "duration": 621,
    "start_time": "2021-12-31T16:54:56.263Z"
   },
   {
    "duration": 1627,
    "start_time": "2021-12-31T16:55:03.106Z"
   },
   {
    "duration": 730,
    "start_time": "2021-12-31T16:56:54.761Z"
   },
   {
    "duration": 1610,
    "start_time": "2021-12-31T16:57:31.333Z"
   },
   {
    "duration": 7249,
    "start_time": "2021-12-31T17:07:12.730Z"
   },
   {
    "duration": 7324,
    "start_time": "2021-12-31T17:07:28.563Z"
   },
   {
    "duration": 35,
    "start_time": "2021-12-31T17:07:51.146Z"
   },
   {
    "duration": 22,
    "start_time": "2021-12-31T17:08:35.824Z"
   },
   {
    "duration": 1517,
    "start_time": "2021-12-31T17:20:30.983Z"
   },
   {
    "duration": 48,
    "start_time": "2021-12-31T17:20:32.503Z"
   },
   {
    "duration": 7,
    "start_time": "2021-12-31T17:20:32.554Z"
   },
   {
    "duration": 8,
    "start_time": "2021-12-31T17:20:32.563Z"
   },
   {
    "duration": 96,
    "start_time": "2021-12-31T17:20:32.573Z"
   },
   {
    "duration": 22,
    "start_time": "2021-12-31T17:20:32.671Z"
   },
   {
    "duration": 449,
    "start_time": "2021-12-31T17:20:32.696Z"
   },
   {
    "duration": -85,
    "start_time": "2021-12-31T17:20:33.233Z"
   },
   {
    "duration": -93,
    "start_time": "2021-12-31T17:20:33.242Z"
   },
   {
    "duration": 31,
    "start_time": "2021-12-31T17:20:54.443Z"
   },
   {
    "duration": 3,
    "start_time": "2021-12-31T18:14:01.229Z"
   },
   {
    "duration": 27,
    "start_time": "2021-12-31T18:14:04.785Z"
   },
   {
    "duration": 859,
    "start_time": "2021-12-31T18:15:16.396Z"
   },
   {
    "duration": 27,
    "start_time": "2021-12-31T18:16:50.097Z"
   },
   {
    "duration": 30,
    "start_time": "2021-12-31T18:19:33.869Z"
   },
   {
    "duration": 283,
    "start_time": "2021-12-31T18:20:29.181Z"
   },
   {
    "duration": 281,
    "start_time": "2021-12-31T18:20:54.311Z"
   },
   {
    "duration": 35,
    "start_time": "2021-12-31T18:21:32.575Z"
   },
   {
    "duration": 5416,
    "start_time": "2021-12-31T18:22:59.145Z"
   },
   {
    "duration": 10318,
    "start_time": "2021-12-31T18:23:31.435Z"
   },
   {
    "duration": 5310,
    "start_time": "2021-12-31T18:24:13.570Z"
   },
   {
    "duration": 5466,
    "start_time": "2021-12-31T18:25:00.247Z"
   },
   {
    "duration": 1423,
    "start_time": "2022-01-02T17:03:15.954Z"
   },
   {
    "duration": 49,
    "start_time": "2022-01-02T17:03:17.380Z"
   },
   {
    "duration": 8,
    "start_time": "2022-01-02T17:03:17.433Z"
   },
   {
    "duration": 12,
    "start_time": "2022-01-02T17:03:17.444Z"
   },
   {
    "duration": 93,
    "start_time": "2022-01-02T17:03:17.458Z"
   },
   {
    "duration": 22,
    "start_time": "2022-01-02T17:03:17.553Z"
   },
   {
    "duration": 5329,
    "start_time": "2022-01-02T17:03:17.577Z"
   },
   {
    "duration": 33,
    "start_time": "2022-01-02T17:03:22.909Z"
   },
   {
    "duration": 1760,
    "start_time": "2022-01-02T17:03:22.945Z"
   },
   {
    "duration": 1497,
    "start_time": "2022-01-05T09:54:01.017Z"
   },
   {
    "duration": 49,
    "start_time": "2022-01-05T09:54:02.517Z"
   },
   {
    "duration": 7,
    "start_time": "2022-01-05T09:54:02.568Z"
   },
   {
    "duration": 13,
    "start_time": "2022-01-05T09:54:02.577Z"
   },
   {
    "duration": 90,
    "start_time": "2022-01-05T09:54:02.592Z"
   },
   {
    "duration": 36,
    "start_time": "2022-01-05T09:54:02.685Z"
   },
   {
    "duration": 5405,
    "start_time": "2022-01-05T09:54:02.723Z"
   },
   {
    "duration": 28,
    "start_time": "2022-01-05T09:54:08.131Z"
   },
   {
    "duration": 1544,
    "start_time": "2022-01-05T09:54:08.162Z"
   },
   {
    "duration": 1506,
    "start_time": "2022-01-05T09:55:58.311Z"
   },
   {
    "duration": 424,
    "start_time": "2022-01-05T10:14:14.280Z"
   },
   {
    "duration": 8,
    "start_time": "2022-01-05T10:14:19.580Z"
   },
   {
    "duration": 294,
    "start_time": "2022-01-05T10:14:22.291Z"
   },
   {
    "duration": 381,
    "start_time": "2022-01-05T10:14:55.968Z"
   },
   {
    "duration": 299,
    "start_time": "2022-01-05T10:25:06.682Z"
   },
   {
    "duration": 292,
    "start_time": "2022-01-05T10:25:12.884Z"
   },
   {
    "duration": 8789,
    "start_time": "2022-01-05T10:27:31.809Z"
   },
   {
    "duration": 1423,
    "start_time": "2022-01-05T10:27:48.567Z"
   },
   {
    "duration": 50,
    "start_time": "2022-01-05T10:27:49.992Z"
   },
   {
    "duration": 7,
    "start_time": "2022-01-05T10:27:50.045Z"
   },
   {
    "duration": 9,
    "start_time": "2022-01-05T10:27:50.055Z"
   },
   {
    "duration": 99,
    "start_time": "2022-01-05T10:27:50.067Z"
   },
   {
    "duration": 25,
    "start_time": "2022-01-05T10:27:50.169Z"
   },
   {
    "duration": 27,
    "start_time": "2022-01-05T10:27:50.196Z"
   },
   {
    "duration": 348,
    "start_time": "2022-01-05T10:27:50.227Z"
   },
   {
    "duration": 296,
    "start_time": "2022-01-05T10:27:50.578Z"
   },
   {
    "duration": 316,
    "start_time": "2022-01-05T10:27:50.877Z"
   },
   {
    "duration": 16721,
    "start_time": "2022-01-05T10:27:51.196Z"
   },
   {
    "duration": 5506,
    "start_time": "2022-01-05T10:28:07.919Z"
   },
   {
    "duration": 28,
    "start_time": "2022-01-05T10:28:13.428Z"
   },
   {
    "duration": 1564,
    "start_time": "2022-01-05T10:28:13.459Z"
   },
   {
    "duration": 17579,
    "start_time": "2022-01-05T10:29:14.738Z"
   },
   {
    "duration": 66659,
    "start_time": "2022-01-05T10:29:42.578Z"
   },
   {
    "duration": 16436,
    "start_time": "2022-01-05T10:31:40.728Z"
   },
   {
    "duration": 1566,
    "start_time": "2022-01-05T10:34:55.933Z"
   },
   {
    "duration": 48,
    "start_time": "2022-01-05T10:34:57.502Z"
   },
   {
    "duration": 7,
    "start_time": "2022-01-05T10:34:57.553Z"
   },
   {
    "duration": 8,
    "start_time": "2022-01-05T10:34:57.562Z"
   },
   {
    "duration": 101,
    "start_time": "2022-01-05T10:34:57.572Z"
   },
   {
    "duration": 23,
    "start_time": "2022-01-05T10:34:57.675Z"
   },
   {
    "duration": 22,
    "start_time": "2022-01-05T10:34:57.700Z"
   },
   {
    "duration": 326,
    "start_time": "2022-01-05T10:34:57.727Z"
   },
   {
    "duration": 286,
    "start_time": "2022-01-05T10:34:58.055Z"
   },
   {
    "duration": 306,
    "start_time": "2022-01-05T10:34:58.343Z"
   },
   {
    "duration": 219,
    "start_time": "2022-01-05T10:34:58.652Z"
   },
   {
    "duration": 5503,
    "start_time": "2022-01-05T10:34:58.873Z"
   },
   {
    "duration": 40,
    "start_time": "2022-01-05T10:35:04.378Z"
   },
   {
    "duration": 1556,
    "start_time": "2022-01-05T10:35:04.420Z"
   },
   {
    "duration": 387,
    "start_time": "2022-01-05T14:50:35.651Z"
   },
   {
    "duration": 1510,
    "start_time": "2022-01-05T14:50:43.270Z"
   },
   {
    "duration": 60,
    "start_time": "2022-01-05T14:50:44.783Z"
   },
   {
    "duration": 8,
    "start_time": "2022-01-05T14:50:44.845Z"
   },
   {
    "duration": 8,
    "start_time": "2022-01-05T14:50:44.864Z"
   },
   {
    "duration": 102,
    "start_time": "2022-01-05T14:50:44.875Z"
   },
   {
    "duration": 25,
    "start_time": "2022-01-05T14:50:44.979Z"
   },
   {
    "duration": 7,
    "start_time": "2022-01-05T14:50:45.007Z"
   },
   {
    "duration": 451,
    "start_time": "2022-01-05T14:50:45.017Z"
   },
   {
    "duration": 296,
    "start_time": "2022-01-05T14:50:45.471Z"
   },
   {
    "duration": 321,
    "start_time": "2022-01-05T14:50:45.769Z"
   },
   {
    "duration": 318,
    "start_time": "2022-01-05T14:50:46.092Z"
   },
   {
    "duration": 6024,
    "start_time": "2022-01-05T14:50:46.412Z"
   },
   {
    "duration": 52,
    "start_time": "2022-01-05T14:50:52.440Z"
   },
   {
    "duration": 2201,
    "start_time": "2022-01-05T14:50:52.496Z"
   },
   {
    "duration": 414,
    "start_time": "2022-01-05T14:52:32.373Z"
   },
   {
    "duration": 1498,
    "start_time": "2022-01-05T14:53:14.144Z"
   },
   {
    "duration": 55,
    "start_time": "2022-01-05T14:53:15.645Z"
   },
   {
    "duration": 8,
    "start_time": "2022-01-05T14:53:15.704Z"
   },
   {
    "duration": 10,
    "start_time": "2022-01-05T14:53:15.715Z"
   },
   {
    "duration": 78,
    "start_time": "2022-01-05T14:53:15.763Z"
   },
   {
    "duration": 41,
    "start_time": "2022-01-05T14:53:15.843Z"
   },
   {
    "duration": 7,
    "start_time": "2022-01-05T14:53:15.886Z"
   },
   {
    "duration": 369,
    "start_time": "2022-01-05T14:53:15.896Z"
   },
   {
    "duration": 284,
    "start_time": "2022-01-05T14:53:16.267Z"
   },
   {
    "duration": 319,
    "start_time": "2022-01-05T14:53:16.553Z"
   },
   {
    "duration": 299,
    "start_time": "2022-01-05T14:53:16.875Z"
   },
   {
    "duration": 29,
    "start_time": "2022-01-05T14:53:17.177Z"
   },
   {
    "duration": 1726,
    "start_time": "2022-01-05T14:53:17.208Z"
   },
   {
    "duration": 1142,
    "start_time": "2022-01-05T21:07:46.855Z"
   },
   {
    "duration": 42,
    "start_time": "2022-01-05T21:07:47.998Z"
   },
   {
    "duration": 5,
    "start_time": "2022-01-05T21:07:48.042Z"
   },
   {
    "duration": 6,
    "start_time": "2022-01-05T21:07:48.049Z"
   },
   {
    "duration": 44,
    "start_time": "2022-01-05T21:07:48.056Z"
   },
   {
    "duration": 15,
    "start_time": "2022-01-05T21:07:48.102Z"
   },
   {
    "duration": 5,
    "start_time": "2022-01-05T21:07:48.119Z"
   },
   {
    "duration": 3,
    "start_time": "2022-01-05T21:07:48.126Z"
   },
   {
    "duration": 3,
    "start_time": "2022-01-05T21:07:48.132Z"
   },
   {
    "duration": 7903,
    "start_time": "2022-01-05T21:07:48.161Z"
   },
   {
    "duration": -75,
    "start_time": "2022-01-05T21:07:56.141Z"
   },
   {
    "duration": -81,
    "start_time": "2022-01-05T21:07:56.148Z"
   },
   {
    "duration": -86,
    "start_time": "2022-01-05T21:07:56.154Z"
   },
   {
    "duration": 401,
    "start_time": "2022-01-05T21:09:05.083Z"
   },
   {
    "duration": 2346,
    "start_time": "2022-01-05T21:13:53.261Z"
   },
   {
    "duration": 280,
    "start_time": "2022-01-05T21:16:54.054Z"
   },
   {
    "duration": 3349,
    "start_time": "2022-01-05T21:17:04.620Z"
   },
   {
    "duration": 3026,
    "start_time": "2022-01-05T21:17:32.367Z"
   },
   {
    "duration": 1355,
    "start_time": "2022-01-05T21:20:22.432Z"
   },
   {
    "duration": 1352,
    "start_time": "2022-01-05T21:20:38.770Z"
   },
   {
    "duration": 1458,
    "start_time": "2022-01-05T21:20:53.551Z"
   },
   {
    "duration": 1530,
    "start_time": "2022-01-05T21:21:36.207Z"
   },
   {
    "duration": 1817,
    "start_time": "2022-01-05T21:21:49.558Z"
   },
   {
    "duration": 1678,
    "start_time": "2022-01-05T21:22:06.692Z"
   },
   {
    "duration": 3272,
    "start_time": "2022-01-05T21:22:33.301Z"
   },
   {
    "duration": 1844,
    "start_time": "2022-01-05T21:23:33.576Z"
   },
   {
    "duration": 1634,
    "start_time": "2022-01-05T21:23:51.846Z"
   },
   {
    "duration": 1928,
    "start_time": "2022-01-05T21:24:02.515Z"
   },
   {
    "duration": 1614,
    "start_time": "2022-01-05T21:24:14.200Z"
   },
   {
    "duration": 1585,
    "start_time": "2022-01-05T21:24:22.798Z"
   },
   {
    "duration": 1625,
    "start_time": "2022-01-05T21:24:43.115Z"
   },
   {
    "duration": 1579,
    "start_time": "2022-01-05T21:24:52.873Z"
   },
   {
    "duration": 5363,
    "start_time": "2022-01-05T21:53:33.713Z"
   },
   {
    "duration": 3147,
    "start_time": "2022-01-05T21:55:14.614Z"
   },
   {
    "duration": 1143,
    "start_time": "2022-01-05T21:57:54.662Z"
   },
   {
    "duration": 38,
    "start_time": "2022-01-05T21:57:55.807Z"
   },
   {
    "duration": 5,
    "start_time": "2022-01-05T21:57:55.847Z"
   },
   {
    "duration": 5,
    "start_time": "2022-01-05T21:57:55.861Z"
   },
   {
    "duration": 44,
    "start_time": "2022-01-05T21:57:55.868Z"
   },
   {
    "duration": 15,
    "start_time": "2022-01-05T21:57:55.914Z"
   },
   {
    "duration": 29,
    "start_time": "2022-01-05T21:57:55.930Z"
   },
   {
    "duration": 2,
    "start_time": "2022-01-05T21:57:55.963Z"
   },
   {
    "duration": 3237,
    "start_time": "2022-01-05T21:57:55.967Z"
   },
   {
    "duration": 2411,
    "start_time": "2022-01-05T21:57:59.206Z"
   },
   {
    "duration": 21,
    "start_time": "2022-01-05T21:58:01.619Z"
   },
   {
    "duration": 1085,
    "start_time": "2022-01-05T21:58:01.642Z"
   },
   {
    "duration": 419,
    "start_time": "2022-01-06T09:40:56.530Z"
   },
   {
    "duration": 1103,
    "start_time": "2022-01-06T09:41:04.421Z"
   },
   {
    "duration": 106,
    "start_time": "2022-01-06T09:41:05.526Z"
   },
   {
    "duration": 4,
    "start_time": "2022-01-06T09:41:05.634Z"
   },
   {
    "duration": 6,
    "start_time": "2022-01-06T09:41:05.639Z"
   },
   {
    "duration": 38,
    "start_time": "2022-01-06T09:41:05.646Z"
   },
   {
    "duration": 12,
    "start_time": "2022-01-06T09:41:05.685Z"
   },
   {
    "duration": 4,
    "start_time": "2022-01-06T09:41:05.698Z"
   },
   {
    "duration": 1394,
    "start_time": "2022-01-06T09:41:05.704Z"
   },
   {
    "duration": 1580,
    "start_time": "2022-01-06T09:41:07.100Z"
   },
   {
    "duration": 2038,
    "start_time": "2022-01-06T09:41:08.682Z"
   },
   {
    "duration": 21,
    "start_time": "2022-01-06T09:41:10.721Z"
   },
   {
    "duration": 908,
    "start_time": "2022-01-06T09:41:10.743Z"
   },
   {
    "duration": 1370,
    "start_time": "2022-01-06T09:41:23.715Z"
   },
   {
    "duration": 1482,
    "start_time": "2022-01-06T09:41:42.999Z"
   },
   {
    "duration": 1416,
    "start_time": "2022-01-06T09:41:55.623Z"
   },
   {
    "duration": 1257,
    "start_time": "2022-01-06T09:50:29.392Z"
   },
   {
    "duration": 35,
    "start_time": "2022-01-06T09:50:30.651Z"
   },
   {
    "duration": 4,
    "start_time": "2022-01-06T09:50:30.688Z"
   },
   {
    "duration": 10,
    "start_time": "2022-01-06T09:50:30.694Z"
   },
   {
    "duration": 49,
    "start_time": "2022-01-06T09:50:30.706Z"
   },
   {
    "duration": 12,
    "start_time": "2022-01-06T09:50:30.757Z"
   },
   {
    "duration": 6,
    "start_time": "2022-01-06T09:50:30.771Z"
   },
   {
    "duration": 1375,
    "start_time": "2022-01-06T09:50:30.779Z"
   },
   {
    "duration": 1484,
    "start_time": "2022-01-06T09:50:32.156Z"
   },
   {
    "duration": 1973,
    "start_time": "2022-01-06T09:50:33.642Z"
   },
   {
    "duration": 21,
    "start_time": "2022-01-06T09:50:35.617Z"
   },
   {
    "duration": 879,
    "start_time": "2022-01-06T09:50:35.639Z"
   },
   {
    "duration": 10,
    "start_time": "2022-01-06T09:50:36.519Z"
   },
   {
    "duration": 152,
    "start_time": "2022-01-06T09:52:37.351Z"
   },
   {
    "duration": 439,
    "start_time": "2022-01-06T09:58:03.524Z"
   },
   {
    "duration": 1128,
    "start_time": "2022-01-06T09:58:14.729Z"
   },
   {
    "duration": 33,
    "start_time": "2022-01-06T09:58:15.859Z"
   },
   {
    "duration": 4,
    "start_time": "2022-01-06T09:58:15.894Z"
   },
   {
    "duration": 7,
    "start_time": "2022-01-06T09:58:15.899Z"
   },
   {
    "duration": 37,
    "start_time": "2022-01-06T09:58:15.908Z"
   },
   {
    "duration": 12,
    "start_time": "2022-01-06T09:58:15.946Z"
   },
   {
    "duration": 4,
    "start_time": "2022-01-06T09:58:15.959Z"
   },
   {
    "duration": 1414,
    "start_time": "2022-01-06T09:58:15.965Z"
   },
   {
    "duration": 1421,
    "start_time": "2022-01-06T09:58:17.381Z"
   },
   {
    "duration": 2017,
    "start_time": "2022-01-06T09:58:18.804Z"
   },
   {
    "duration": 18,
    "start_time": "2022-01-06T09:58:20.823Z"
   },
   {
    "duration": 891,
    "start_time": "2022-01-06T09:58:20.843Z"
   },
   {
    "duration": 6,
    "start_time": "2022-01-06T09:58:21.735Z"
   },
   {
    "duration": 162,
    "start_time": "2022-01-06T09:58:21.742Z"
   },
   {
    "duration": 459,
    "start_time": "2022-01-06T09:58:21.906Z"
   },
   {
    "duration": 1085,
    "start_time": "2022-01-06T09:58:58.866Z"
   },
   {
    "duration": 39,
    "start_time": "2022-01-06T09:58:59.953Z"
   },
   {
    "duration": 5,
    "start_time": "2022-01-06T09:58:59.994Z"
   },
   {
    "duration": 8,
    "start_time": "2022-01-06T09:59:00.002Z"
   },
   {
    "duration": 48,
    "start_time": "2022-01-06T09:59:00.011Z"
   },
   {
    "duration": 13,
    "start_time": "2022-01-06T09:59:00.061Z"
   },
   {
    "duration": 4,
    "start_time": "2022-01-06T09:59:00.076Z"
   },
   {
    "duration": 1809,
    "start_time": "2022-01-06T09:59:00.082Z"
   },
   {
    "duration": 1716,
    "start_time": "2022-01-06T09:59:01.893Z"
   },
   {
    "duration": 2419,
    "start_time": "2022-01-06T09:59:03.610Z"
   },
   {
    "duration": 25,
    "start_time": "2022-01-06T09:59:06.031Z"
   },
   {
    "duration": 1290,
    "start_time": "2022-01-06T09:59:06.058Z"
   },
   {
    "duration": 6,
    "start_time": "2022-01-06T09:59:07.350Z"
   },
   {
    "duration": 270,
    "start_time": "2022-01-06T09:59:07.358Z"
   },
   {
    "duration": 66,
    "start_time": "2022-01-06T09:59:07.630Z"
   },
   {
    "duration": 160,
    "start_time": "2022-01-06T09:59:51.146Z"
   },
   {
    "duration": 1173,
    "start_time": "2022-01-06T10:04:47.021Z"
   },
   {
    "duration": 35,
    "start_time": "2022-01-06T10:04:48.196Z"
   },
   {
    "duration": 4,
    "start_time": "2022-01-06T10:04:48.232Z"
   },
   {
    "duration": 6,
    "start_time": "2022-01-06T10:04:48.238Z"
   },
   {
    "duration": 40,
    "start_time": "2022-01-06T10:04:48.246Z"
   },
   {
    "duration": 12,
    "start_time": "2022-01-06T10:04:48.288Z"
   },
   {
    "duration": 4,
    "start_time": "2022-01-06T10:04:48.302Z"
   },
   {
    "duration": 1495,
    "start_time": "2022-01-06T10:04:48.308Z"
   },
   {
    "duration": 1457,
    "start_time": "2022-01-06T10:04:49.804Z"
   },
   {
    "duration": 2121,
    "start_time": "2022-01-06T10:04:51.263Z"
   },
   {
    "duration": 17,
    "start_time": "2022-01-06T10:04:53.385Z"
   },
   {
    "duration": 1155,
    "start_time": "2022-01-06T10:04:53.404Z"
   },
   {
    "duration": 6,
    "start_time": "2022-01-06T10:04:54.561Z"
   },
   {
    "duration": 179,
    "start_time": "2022-01-06T10:04:54.568Z"
   },
   {
    "duration": 59,
    "start_time": "2022-01-06T10:04:54.749Z"
   },
   {
    "duration": 420,
    "start_time": "2022-01-06T10:04:54.810Z"
   },
   {
    "duration": 1069,
    "start_time": "2022-01-06T10:06:08.683Z"
   },
   {
    "duration": 35,
    "start_time": "2022-01-06T10:06:09.753Z"
   },
   {
    "duration": 4,
    "start_time": "2022-01-06T10:06:09.789Z"
   },
   {
    "duration": 21,
    "start_time": "2022-01-06T10:06:09.795Z"
   },
   {
    "duration": 46,
    "start_time": "2022-01-06T10:06:09.817Z"
   },
   {
    "duration": 12,
    "start_time": "2022-01-06T10:06:09.865Z"
   },
   {
    "duration": 4,
    "start_time": "2022-01-06T10:06:09.879Z"
   },
   {
    "duration": 1409,
    "start_time": "2022-01-06T10:06:09.885Z"
   },
   {
    "duration": 1402,
    "start_time": "2022-01-06T10:06:11.295Z"
   },
   {
    "duration": 2079,
    "start_time": "2022-01-06T10:06:12.698Z"
   },
   {
    "duration": 15,
    "start_time": "2022-01-06T10:06:14.778Z"
   },
   {
    "duration": 929,
    "start_time": "2022-01-06T10:06:14.795Z"
   },
   {
    "duration": 6,
    "start_time": "2022-01-06T10:06:15.727Z"
   },
   {
    "duration": 171,
    "start_time": "2022-01-06T10:06:15.734Z"
   },
   {
    "duration": 59,
    "start_time": "2022-01-06T10:06:15.907Z"
   },
   {
    "duration": 409,
    "start_time": "2022-01-06T10:06:15.967Z"
   },
   {
    "duration": 481,
    "start_time": "2022-01-06T10:07:58.859Z"
   },
   {
    "duration": 498,
    "start_time": "2022-01-06T10:12:30.923Z"
   },
   {
    "duration": 556,
    "start_time": "2022-01-06T10:13:27.681Z"
   },
   {
    "duration": 554,
    "start_time": "2022-01-06T10:13:48.238Z"
   },
   {
    "duration": 528,
    "start_time": "2022-01-06T10:15:01.105Z"
   },
   {
    "duration": 1099,
    "start_time": "2022-01-06T10:15:37.856Z"
   },
   {
    "duration": 34,
    "start_time": "2022-01-06T10:15:38.956Z"
   },
   {
    "duration": 4,
    "start_time": "2022-01-06T10:15:38.992Z"
   },
   {
    "duration": 6,
    "start_time": "2022-01-06T10:15:38.998Z"
   },
   {
    "duration": 39,
    "start_time": "2022-01-06T10:15:39.006Z"
   },
   {
    "duration": 12,
    "start_time": "2022-01-06T10:15:39.047Z"
   },
   {
    "duration": 4,
    "start_time": "2022-01-06T10:15:39.061Z"
   },
   {
    "duration": 1487,
    "start_time": "2022-01-06T10:15:39.067Z"
   },
   {
    "duration": 1423,
    "start_time": "2022-01-06T10:15:40.556Z"
   },
   {
    "duration": 2006,
    "start_time": "2022-01-06T10:15:41.981Z"
   },
   {
    "duration": 20,
    "start_time": "2022-01-06T10:15:43.989Z"
   },
   {
    "duration": 1033,
    "start_time": "2022-01-06T10:15:44.011Z"
   },
   {
    "duration": 6,
    "start_time": "2022-01-06T10:15:45.045Z"
   },
   {
    "duration": 161,
    "start_time": "2022-01-06T10:15:45.053Z"
   },
   {
    "duration": 60,
    "start_time": "2022-01-06T10:15:45.215Z"
   },
   {
    "duration": 524,
    "start_time": "2022-01-06T10:15:45.276Z"
   },
   {
    "duration": 1105,
    "start_time": "2022-01-06T11:38:01.746Z"
   },
   {
    "duration": 34,
    "start_time": "2022-01-06T11:38:02.853Z"
   },
   {
    "duration": 4,
    "start_time": "2022-01-06T11:38:02.888Z"
   },
   {
    "duration": 7,
    "start_time": "2022-01-06T11:38:02.894Z"
   },
   {
    "duration": 44,
    "start_time": "2022-01-06T11:38:02.903Z"
   },
   {
    "duration": 12,
    "start_time": "2022-01-06T11:38:02.948Z"
   },
   {
    "duration": 5,
    "start_time": "2022-01-06T11:38:02.961Z"
   },
   {
    "duration": 1533,
    "start_time": "2022-01-06T11:38:02.968Z"
   },
   {
    "duration": 1402,
    "start_time": "2022-01-06T11:38:04.502Z"
   },
   {
    "duration": 1989,
    "start_time": "2022-01-06T11:38:05.906Z"
   },
   {
    "duration": 15,
    "start_time": "2022-01-06T11:38:07.897Z"
   },
   {
    "duration": 915,
    "start_time": "2022-01-06T11:38:07.914Z"
   },
   {
    "duration": 6,
    "start_time": "2022-01-06T11:38:08.830Z"
   },
   {
    "duration": 159,
    "start_time": "2022-01-06T11:38:08.838Z"
   },
   {
    "duration": 72,
    "start_time": "2022-01-06T11:38:08.998Z"
   },
   {
    "duration": 467,
    "start_time": "2022-01-06T11:38:09.071Z"
   },
   {
    "duration": 1133,
    "start_time": "2022-01-06T11:39:37.123Z"
   },
   {
    "duration": 34,
    "start_time": "2022-01-06T11:39:38.257Z"
   },
   {
    "duration": 4,
    "start_time": "2022-01-06T11:39:38.293Z"
   },
   {
    "duration": 6,
    "start_time": "2022-01-06T11:39:38.299Z"
   },
   {
    "duration": 42,
    "start_time": "2022-01-06T11:39:38.306Z"
   },
   {
    "duration": 12,
    "start_time": "2022-01-06T11:39:38.350Z"
   },
   {
    "duration": 4,
    "start_time": "2022-01-06T11:39:38.363Z"
   },
   {
    "duration": 1523,
    "start_time": "2022-01-06T11:39:38.369Z"
   },
   {
    "duration": 1536,
    "start_time": "2022-01-06T11:39:39.894Z"
   },
   {
    "duration": 2093,
    "start_time": "2022-01-06T11:39:41.432Z"
   },
   {
    "duration": 15,
    "start_time": "2022-01-06T11:39:43.527Z"
   },
   {
    "duration": 894,
    "start_time": "2022-01-06T11:39:43.544Z"
   },
   {
    "duration": 6,
    "start_time": "2022-01-06T11:39:44.440Z"
   },
   {
    "duration": 168,
    "start_time": "2022-01-06T11:39:44.448Z"
   },
   {
    "duration": 56,
    "start_time": "2022-01-06T11:39:44.618Z"
   },
   {
    "duration": 431,
    "start_time": "2022-01-06T11:39:44.675Z"
   },
   {
    "duration": 1127,
    "start_time": "2022-01-07T11:04:42.591Z"
   },
   {
    "duration": 45,
    "start_time": "2022-01-07T11:04:43.721Z"
   },
   {
    "duration": 5,
    "start_time": "2022-01-07T11:04:43.768Z"
   },
   {
    "duration": 8,
    "start_time": "2022-01-07T11:04:43.775Z"
   },
   {
    "duration": 64,
    "start_time": "2022-01-07T11:04:43.784Z"
   },
   {
    "duration": 17,
    "start_time": "2022-01-07T11:04:43.850Z"
   },
   {
    "duration": 6,
    "start_time": "2022-01-07T11:04:43.869Z"
   },
   {
    "duration": 1768,
    "start_time": "2022-01-07T11:04:43.877Z"
   },
   {
    "duration": 1654,
    "start_time": "2022-01-07T11:04:45.647Z"
   },
   {
    "duration": 2216,
    "start_time": "2022-01-07T11:04:47.303Z"
   },
   {
    "duration": 25,
    "start_time": "2022-01-07T11:04:49.521Z"
   },
   {
    "duration": 986,
    "start_time": "2022-01-07T11:04:49.547Z"
   },
   {
    "duration": 10,
    "start_time": "2022-01-07T11:04:50.535Z"
   },
   {
    "duration": 178,
    "start_time": "2022-01-07T11:04:50.547Z"
   },
   {
    "duration": 68,
    "start_time": "2022-01-07T11:04:50.727Z"
   },
   {
    "duration": 363,
    "start_time": "2022-01-07T11:04:50.797Z"
   },
   {
    "duration": 1555,
    "start_time": "2022-01-07T11:33:15.043Z"
   },
   {
    "duration": 49,
    "start_time": "2022-01-07T11:33:16.600Z"
   },
   {
    "duration": 6,
    "start_time": "2022-01-07T11:33:16.652Z"
   },
   {
    "duration": 7,
    "start_time": "2022-01-07T11:33:16.660Z"
   },
   {
    "duration": 78,
    "start_time": "2022-01-07T11:33:16.669Z"
   },
   {
    "duration": 19,
    "start_time": "2022-01-07T11:33:16.749Z"
   },
   {
    "duration": 6,
    "start_time": "2022-01-07T11:33:16.770Z"
   },
   {
    "duration": 2447,
    "start_time": "2022-01-07T11:33:16.779Z"
   },
   {
    "duration": 2645,
    "start_time": "2022-01-07T11:33:19.228Z"
   },
   {
    "duration": 3203,
    "start_time": "2022-01-07T11:33:21.876Z"
   },
   {
    "duration": 18,
    "start_time": "2022-01-07T11:33:25.081Z"
   },
   {
    "duration": 1069,
    "start_time": "2022-01-07T11:33:25.100Z"
   },
   {
    "duration": 7,
    "start_time": "2022-01-07T11:33:26.171Z"
   },
   {
    "duration": 194,
    "start_time": "2022-01-07T11:33:26.179Z"
   },
   {
    "duration": 112,
    "start_time": "2022-01-07T11:33:26.375Z"
   },
   {
    "duration": 401,
    "start_time": "2022-01-07T11:33:26.490Z"
   },
   {
    "duration": 1422,
    "start_time": "2022-01-07T14:26:15.817Z"
   },
   {
    "duration": 48,
    "start_time": "2022-01-07T14:26:17.242Z"
   },
   {
    "duration": 7,
    "start_time": "2022-01-07T14:26:17.292Z"
   },
   {
    "duration": 23,
    "start_time": "2022-01-07T14:26:17.302Z"
   },
   {
    "duration": 74,
    "start_time": "2022-01-07T14:26:17.327Z"
   },
   {
    "duration": 21,
    "start_time": "2022-01-07T14:26:17.424Z"
   },
   {
    "duration": 6,
    "start_time": "2022-01-07T14:26:17.448Z"
   },
   {
    "duration": 2622,
    "start_time": "2022-01-07T14:26:17.457Z"
   },
   {
    "duration": 2710,
    "start_time": "2022-01-07T14:26:20.082Z"
   },
   {
    "duration": 3738,
    "start_time": "2022-01-07T14:26:22.795Z"
   },
   {
    "duration": 26,
    "start_time": "2022-01-07T14:26:26.535Z"
   },
   {
    "duration": 1577,
    "start_time": "2022-01-07T14:26:26.564Z"
   },
   {
    "duration": 12,
    "start_time": "2022-01-07T14:26:28.144Z"
   },
   {
    "duration": 427,
    "start_time": "2022-01-07T14:26:28.159Z"
   },
   {
    "duration": 91,
    "start_time": "2022-01-07T14:26:28.588Z"
   },
   {
    "duration": 502,
    "start_time": "2022-01-07T14:26:28.682Z"
   },
   {
    "duration": 1395,
    "start_time": "2022-01-07T14:27:51.440Z"
   },
   {
    "duration": 44,
    "start_time": "2022-01-07T14:27:52.838Z"
   },
   {
    "duration": 7,
    "start_time": "2022-01-07T14:27:52.885Z"
   },
   {
    "duration": 12,
    "start_time": "2022-01-07T14:27:52.895Z"
   },
   {
    "duration": 66,
    "start_time": "2022-01-07T14:27:52.924Z"
   },
   {
    "duration": 41,
    "start_time": "2022-01-07T14:27:52.993Z"
   },
   {
    "duration": 8,
    "start_time": "2022-01-07T14:27:53.036Z"
   },
   {
    "duration": 2528,
    "start_time": "2022-01-07T14:27:53.047Z"
   },
   {
    "duration": 2522,
    "start_time": "2022-01-07T14:27:55.577Z"
   },
   {
    "duration": 3819,
    "start_time": "2022-01-07T14:27:58.101Z"
   },
   {
    "duration": 28,
    "start_time": "2022-01-07T14:28:01.924Z"
   },
   {
    "duration": 1692,
    "start_time": "2022-01-07T14:28:01.954Z"
   },
   {
    "duration": 12,
    "start_time": "2022-01-07T14:28:03.649Z"
   },
   {
    "duration": 5,
    "start_time": "2022-01-07T14:28:03.663Z"
   },
   {
    "duration": 458,
    "start_time": "2022-01-07T14:28:03.670Z"
   },
   {
    "duration": 96,
    "start_time": "2022-01-07T14:28:04.130Z"
   },
   {
    "duration": 428,
    "start_time": "2022-01-07T14:28:04.229Z"
   },
   {
    "duration": 309,
    "start_time": "2022-01-07T14:30:15.373Z"
   },
   {
    "duration": 1504,
    "start_time": "2022-01-07T14:30:25.056Z"
   },
   {
    "duration": 879,
    "start_time": "2022-01-07T14:30:26.562Z"
   },
   {
    "duration": 6,
    "start_time": "2022-01-07T14:30:27.445Z"
   },
   {
    "duration": 8,
    "start_time": "2022-01-07T14:30:27.454Z"
   },
   {
    "duration": 92,
    "start_time": "2022-01-07T14:30:27.464Z"
   },
   {
    "duration": 23,
    "start_time": "2022-01-07T14:30:27.558Z"
   },
   {
    "duration": 7,
    "start_time": "2022-01-07T14:30:27.584Z"
   },
   {
    "duration": 2634,
    "start_time": "2022-01-07T14:30:27.594Z"
   },
   {
    "duration": 2704,
    "start_time": "2022-01-07T14:30:30.232Z"
   },
   {
    "duration": 3787,
    "start_time": "2022-01-07T14:30:32.939Z"
   },
   {
    "duration": 29,
    "start_time": "2022-01-07T14:30:36.729Z"
   },
   {
    "duration": 1650,
    "start_time": "2022-01-07T14:30:36.760Z"
   },
   {
    "duration": 624,
    "start_time": "2022-01-07T14:30:38.423Z"
   },
   {
    "duration": 464,
    "start_time": "2022-01-07T14:30:38.587Z"
   },
   {
    "duration": 463,
    "start_time": "2022-01-07T14:30:38.590Z"
   },
   {
    "duration": 462,
    "start_time": "2022-01-07T14:30:38.594Z"
   },
   {
    "duration": 460,
    "start_time": "2022-01-07T14:30:38.598Z"
   },
   {
    "duration": 10,
    "start_time": "2022-01-07T14:31:13.208Z"
   },
   {
    "duration": 1377,
    "start_time": "2022-01-07T14:31:37.977Z"
   },
   {
    "duration": 45,
    "start_time": "2022-01-07T14:31:39.357Z"
   },
   {
    "duration": 18,
    "start_time": "2022-01-07T14:31:39.405Z"
   },
   {
    "duration": 10,
    "start_time": "2022-01-07T14:31:39.427Z"
   },
   {
    "duration": 94,
    "start_time": "2022-01-07T14:31:39.440Z"
   },
   {
    "duration": 25,
    "start_time": "2022-01-07T14:31:39.537Z"
   },
   {
    "duration": 8,
    "start_time": "2022-01-07T14:31:39.565Z"
   },
   {
    "duration": 2597,
    "start_time": "2022-01-07T14:31:39.579Z"
   },
   {
    "duration": 2763,
    "start_time": "2022-01-07T14:31:42.180Z"
   },
   {
    "duration": 3738,
    "start_time": "2022-01-07T14:31:44.946Z"
   },
   {
    "duration": 48,
    "start_time": "2022-01-07T14:31:48.687Z"
   },
   {
    "duration": 1593,
    "start_time": "2022-01-07T14:31:48.738Z"
   },
   {
    "duration": 10,
    "start_time": "2022-01-07T14:31:50.333Z"
   },
   {
    "duration": 5,
    "start_time": "2022-01-07T14:31:50.345Z"
   },
   {
    "duration": 82,
    "start_time": "2022-01-07T14:31:50.353Z"
   },
   {
    "duration": 190,
    "start_time": "2022-01-07T14:31:50.523Z"
   },
   {
    "duration": 476,
    "start_time": "2022-01-07T14:31:50.723Z"
   },
   {
    "duration": 1586,
    "start_time": "2022-01-07T14:35:57.228Z"
   },
   {
    "duration": 49,
    "start_time": "2022-01-07T14:35:58.817Z"
   },
   {
    "duration": 8,
    "start_time": "2022-01-07T14:35:58.870Z"
   },
   {
    "duration": 10,
    "start_time": "2022-01-07T14:35:58.881Z"
   },
   {
    "duration": 112,
    "start_time": "2022-01-07T14:35:58.924Z"
   },
   {
    "duration": 26,
    "start_time": "2022-01-07T14:35:59.039Z"
   },
   {
    "duration": 9,
    "start_time": "2022-01-07T14:35:59.068Z"
   },
   {
    "duration": 3303,
    "start_time": "2022-01-07T14:35:59.081Z"
   },
   {
    "duration": 3898,
    "start_time": "2022-01-07T14:36:02.387Z"
   },
   {
    "duration": 3804,
    "start_time": "2022-01-07T14:36:06.287Z"
   },
   {
    "duration": 39,
    "start_time": "2022-01-07T14:36:10.094Z"
   },
   {
    "duration": 1467,
    "start_time": "2022-01-07T14:36:10.136Z"
   },
   {
    "duration": 22,
    "start_time": "2022-01-07T14:36:11.605Z"
   },
   {
    "duration": 8,
    "start_time": "2022-01-07T14:36:11.630Z"
   },
   {
    "duration": 84,
    "start_time": "2022-01-07T14:36:11.640Z"
   },
   {
    "duration": 145,
    "start_time": "2022-01-07T14:36:11.727Z"
   },
   {
    "duration": 13,
    "start_time": "2022-01-07T14:36:11.874Z"
   },
   {
    "duration": 15,
    "start_time": "2022-01-07T14:36:49.739Z"
   },
   {
    "duration": 4,
    "start_time": "2022-01-07T18:07:31.487Z"
   },
   {
    "duration": 68,
    "start_time": "2022-01-07T18:07:31.495Z"
   },
   {
    "duration": 10,
    "start_time": "2022-01-07T18:07:31.566Z"
   },
   {
    "duration": 7,
    "start_time": "2022-01-07T18:07:31.578Z"
   },
   {
    "duration": 116,
    "start_time": "2022-01-07T18:07:31.588Z"
   },
   {
    "duration": 24,
    "start_time": "2022-01-07T18:07:31.707Z"
   },
   {
    "duration": 33,
    "start_time": "2022-01-07T18:07:31.734Z"
   },
   {
    "duration": 3540,
    "start_time": "2022-01-07T18:07:31.770Z"
   },
   {
    "duration": 2697,
    "start_time": "2022-01-07T18:07:35.315Z"
   },
   {
    "duration": 3724,
    "start_time": "2022-01-07T18:07:38.015Z"
   },
   {
    "duration": 41,
    "start_time": "2022-01-07T18:07:41.742Z"
   },
   {
    "duration": 1512,
    "start_time": "2022-01-07T18:07:41.785Z"
   },
   {
    "duration": 10,
    "start_time": "2022-01-07T18:07:43.300Z"
   },
   {
    "duration": 4,
    "start_time": "2022-01-07T18:07:43.312Z"
   },
   {
    "duration": 70,
    "start_time": "2022-01-07T18:07:43.318Z"
   },
   {
    "duration": 205,
    "start_time": "2022-01-07T18:07:43.393Z"
   },
   {
    "duration": 14,
    "start_time": "2022-01-07T18:07:43.600Z"
   },
   {
    "duration": 13,
    "start_time": "2022-01-07T18:07:43.616Z"
   },
   {
    "duration": 1499,
    "start_time": "2022-01-07T18:13:58.512Z"
   },
   {
    "duration": 52,
    "start_time": "2022-01-07T18:14:00.014Z"
   },
   {
    "duration": 7,
    "start_time": "2022-01-07T18:14:00.069Z"
   },
   {
    "duration": 9,
    "start_time": "2022-01-07T18:14:00.078Z"
   },
   {
    "duration": 105,
    "start_time": "2022-01-07T18:14:00.089Z"
   },
   {
    "duration": 25,
    "start_time": "2022-01-07T18:14:00.197Z"
   },
   {
    "duration": 8,
    "start_time": "2022-01-07T18:14:00.225Z"
   },
   {
    "duration": 2808,
    "start_time": "2022-01-07T18:14:00.261Z"
   },
   {
    "duration": 2705,
    "start_time": "2022-01-07T18:14:03.072Z"
   },
   {
    "duration": 3827,
    "start_time": "2022-01-07T18:14:05.781Z"
   },
   {
    "duration": 28,
    "start_time": "2022-01-07T18:14:09.611Z"
   },
   {
    "duration": 1554,
    "start_time": "2022-01-07T18:14:09.641Z"
   },
   {
    "duration": 12,
    "start_time": "2022-01-07T18:14:11.199Z"
   },
   {
    "duration": 6,
    "start_time": "2022-01-07T18:14:11.214Z"
   },
   {
    "duration": 140,
    "start_time": "2022-01-07T18:14:11.222Z"
   },
   {
    "duration": 145,
    "start_time": "2022-01-07T18:14:11.365Z"
   },
   {
    "duration": 12,
    "start_time": "2022-01-07T18:14:11.513Z"
   },
   {
    "duration": 37,
    "start_time": "2022-01-07T18:14:11.528Z"
   },
   {
    "duration": 1793,
    "start_time": "2022-01-07T18:15:01.925Z"
   },
   {
    "duration": 56,
    "start_time": "2022-01-07T18:15:03.721Z"
   },
   {
    "duration": 7,
    "start_time": "2022-01-07T18:15:03.781Z"
   },
   {
    "duration": 8,
    "start_time": "2022-01-07T18:15:03.791Z"
   },
   {
    "duration": 105,
    "start_time": "2022-01-07T18:15:03.801Z"
   },
   {
    "duration": 24,
    "start_time": "2022-01-07T18:15:03.909Z"
   },
   {
    "duration": 29,
    "start_time": "2022-01-07T18:15:03.936Z"
   },
   {
    "duration": 2879,
    "start_time": "2022-01-07T18:15:03.970Z"
   },
   {
    "duration": 3175,
    "start_time": "2022-01-07T18:15:06.861Z"
   },
   {
    "duration": 3893,
    "start_time": "2022-01-07T18:15:10.038Z"
   },
   {
    "duration": 41,
    "start_time": "2022-01-07T18:15:13.934Z"
   },
   {
    "duration": 1792,
    "start_time": "2022-01-07T18:15:13.978Z"
   },
   {
    "duration": 8,
    "start_time": "2022-01-07T18:15:15.773Z"
   },
   {
    "duration": 3,
    "start_time": "2022-01-07T18:15:15.784Z"
   },
   {
    "duration": 78,
    "start_time": "2022-01-07T18:15:15.789Z"
   },
   {
    "duration": 246,
    "start_time": "2022-01-07T18:15:15.870Z"
   },
   {
    "duration": 15,
    "start_time": "2022-01-07T18:15:16.119Z"
   },
   {
    "duration": 14,
    "start_time": "2022-01-07T18:15:16.160Z"
   },
   {
    "duration": 1953,
    "start_time": "2022-01-07T18:27:29.569Z"
   },
   {
    "duration": 50,
    "start_time": "2022-01-07T18:27:31.525Z"
   },
   {
    "duration": 7,
    "start_time": "2022-01-07T18:27:31.578Z"
   },
   {
    "duration": 8,
    "start_time": "2022-01-07T18:27:31.587Z"
   },
   {
    "duration": 99,
    "start_time": "2022-01-07T18:27:31.598Z"
   },
   {
    "duration": 23,
    "start_time": "2022-01-07T18:27:31.700Z"
   },
   {
    "duration": 2671,
    "start_time": "2022-01-07T18:27:31.726Z"
   },
   {
    "duration": 2652,
    "start_time": "2022-01-07T18:27:34.400Z"
   },
   {
    "duration": 3701,
    "start_time": "2022-01-07T18:27:37.060Z"
   },
   {
    "duration": 29,
    "start_time": "2022-01-07T18:27:40.764Z"
   },
   {
    "duration": 1633,
    "start_time": "2022-01-07T18:27:40.796Z"
   },
   {
    "duration": 10,
    "start_time": "2022-01-07T18:27:42.431Z"
   },
   {
    "duration": 2,
    "start_time": "2022-01-07T18:27:42.459Z"
   },
   {
    "duration": 97,
    "start_time": "2022-01-07T18:27:42.464Z"
   },
   {
    "duration": 150,
    "start_time": "2022-01-07T18:27:42.564Z"
   },
   {
    "duration": 15,
    "start_time": "2022-01-07T18:27:42.716Z"
   },
   {
    "duration": 37,
    "start_time": "2022-01-07T18:27:42.733Z"
   },
   {
    "duration": 1589,
    "start_time": "2022-01-07T18:27:55.249Z"
   },
   {
    "duration": 50,
    "start_time": "2022-01-07T18:27:56.841Z"
   },
   {
    "duration": 7,
    "start_time": "2022-01-07T18:27:56.894Z"
   },
   {
    "duration": 8,
    "start_time": "2022-01-07T18:27:56.904Z"
   },
   {
    "duration": 99,
    "start_time": "2022-01-07T18:27:56.915Z"
   },
   {
    "duration": 23,
    "start_time": "2022-01-07T18:27:57.016Z"
   },
   {
    "duration": 2670,
    "start_time": "2022-01-07T18:27:57.058Z"
   },
   {
    "duration": 3081,
    "start_time": "2022-01-07T18:27:59.733Z"
   },
   {
    "duration": 3908,
    "start_time": "2022-01-07T18:28:02.816Z"
   },
   {
    "duration": 47,
    "start_time": "2022-01-07T18:28:06.727Z"
   },
   {
    "duration": 1584,
    "start_time": "2022-01-07T18:28:06.776Z"
   },
   {
    "duration": 10,
    "start_time": "2022-01-07T18:28:08.362Z"
   },
   {
    "duration": 94,
    "start_time": "2022-01-07T18:28:08.375Z"
   },
   {
    "duration": 172,
    "start_time": "2022-01-07T18:28:08.472Z"
   },
   {
    "duration": 15,
    "start_time": "2022-01-07T18:28:08.660Z"
   },
   {
    "duration": 14,
    "start_time": "2022-01-07T18:28:08.678Z"
   },
   {
    "duration": 58,
    "start_time": "2022-01-07T18:29:00.010Z"
   },
   {
    "duration": 55,
    "start_time": "2022-01-07T18:29:03.913Z"
   },
   {
    "duration": 58,
    "start_time": "2022-01-07T18:29:07.410Z"
   },
   {
    "duration": 2157,
    "start_time": "2022-01-07T18:29:44.369Z"
   },
   {
    "duration": 73,
    "start_time": "2022-01-07T18:29:46.530Z"
   },
   {
    "duration": 10,
    "start_time": "2022-01-07T18:29:46.607Z"
   },
   {
    "duration": 10,
    "start_time": "2022-01-07T18:29:46.620Z"
   },
   {
    "duration": 147,
    "start_time": "2022-01-07T18:29:46.633Z"
   },
   {
    "duration": 22,
    "start_time": "2022-01-07T18:29:46.783Z"
   },
   {
    "duration": 3040,
    "start_time": "2022-01-07T18:29:46.807Z"
   },
   {
    "duration": 3071,
    "start_time": "2022-01-07T18:29:49.858Z"
   },
   {
    "duration": 4033,
    "start_time": "2022-01-07T18:29:52.932Z"
   },
   {
    "duration": 29,
    "start_time": "2022-01-07T18:29:56.968Z"
   },
   {
    "duration": 1708,
    "start_time": "2022-01-07T18:29:56.999Z"
   },
   {
    "duration": 9,
    "start_time": "2022-01-07T18:29:58.710Z"
   },
   {
    "duration": 71,
    "start_time": "2022-01-07T18:29:58.722Z"
   },
   {
    "duration": 213,
    "start_time": "2022-01-07T18:29:58.797Z"
   },
   {
    "duration": 15,
    "start_time": "2022-01-07T18:29:59.012Z"
   },
   {
    "duration": 37,
    "start_time": "2022-01-07T18:29:59.029Z"
   },
   {
    "duration": 9,
    "start_time": "2022-01-07T18:32:11.039Z"
   },
   {
    "duration": 1580,
    "start_time": "2022-01-07T18:32:22.616Z"
   },
   {
    "duration": 51,
    "start_time": "2022-01-07T18:32:24.199Z"
   },
   {
    "duration": 11,
    "start_time": "2022-01-07T18:32:24.253Z"
   },
   {
    "duration": 7,
    "start_time": "2022-01-07T18:32:24.267Z"
   },
   {
    "duration": 100,
    "start_time": "2022-01-07T18:32:24.277Z"
   },
   {
    "duration": 22,
    "start_time": "2022-01-07T18:32:24.380Z"
   },
   {
    "duration": 2826,
    "start_time": "2022-01-07T18:32:24.405Z"
   },
   {
    "duration": 2848,
    "start_time": "2022-01-07T18:32:27.236Z"
   },
   {
    "duration": 3918,
    "start_time": "2022-01-07T18:32:30.087Z"
   },
   {
    "duration": 35,
    "start_time": "2022-01-07T18:32:34.008Z"
   },
   {
    "duration": 1511,
    "start_time": "2022-01-07T18:32:34.059Z"
   },
   {
    "duration": 12,
    "start_time": "2022-01-07T18:32:35.573Z"
   },
   {
    "duration": 81,
    "start_time": "2022-01-07T18:32:35.588Z"
   },
   {
    "duration": 230,
    "start_time": "2022-01-07T18:32:35.672Z"
   },
   {
    "duration": 16,
    "start_time": "2022-01-07T18:32:35.904Z"
   },
   {
    "duration": 45,
    "start_time": "2022-01-07T18:32:35.922Z"
   },
   {
    "duration": 13,
    "start_time": "2022-01-07T18:32:35.970Z"
   },
   {
    "duration": 1579,
    "start_time": "2022-01-07T20:02:38.619Z"
   },
   {
    "duration": 50,
    "start_time": "2022-01-07T20:02:40.200Z"
   },
   {
    "duration": 11,
    "start_time": "2022-01-07T20:02:40.253Z"
   },
   {
    "duration": 7,
    "start_time": "2022-01-07T20:02:40.267Z"
   },
   {
    "duration": 90,
    "start_time": "2022-01-07T20:02:40.276Z"
   },
   {
    "duration": 25,
    "start_time": "2022-01-07T20:02:40.368Z"
   },
   {
    "duration": 2707,
    "start_time": "2022-01-07T20:02:40.395Z"
   },
   {
    "duration": 2805,
    "start_time": "2022-01-07T20:02:43.107Z"
   },
   {
    "duration": 3722,
    "start_time": "2022-01-07T20:02:45.915Z"
   },
   {
    "duration": 40,
    "start_time": "2022-01-07T20:02:49.640Z"
   },
   {
    "duration": 1554,
    "start_time": "2022-01-07T20:02:49.682Z"
   },
   {
    "duration": 23,
    "start_time": "2022-01-07T20:02:51.239Z"
   },
   {
    "duration": 99,
    "start_time": "2022-01-07T20:02:51.264Z"
   },
   {
    "duration": 146,
    "start_time": "2022-01-07T20:02:51.366Z"
   },
   {
    "duration": 13,
    "start_time": "2022-01-07T20:02:51.514Z"
   },
   {
    "duration": 39,
    "start_time": "2022-01-07T20:02:51.530Z"
   },
   {
    "duration": 9,
    "start_time": "2022-01-07T20:02:51.571Z"
   },
   {
    "duration": 599,
    "start_time": "2022-01-07T20:12:20.229Z"
   },
   {
    "duration": 428,
    "start_time": "2022-01-07T20:12:25.979Z"
   },
   {
    "duration": 9,
    "start_time": "2022-01-07T20:12:34.529Z"
   },
   {
    "duration": 12,
    "start_time": "2022-01-07T20:15:51.098Z"
   },
   {
    "duration": 10,
    "start_time": "2022-01-07T20:16:05.560Z"
   },
   {
    "duration": 7,
    "start_time": "2022-01-07T20:16:29.603Z"
   },
   {
    "duration": 1351,
    "start_time": "2022-01-07T20:19:15.532Z"
   },
   {
    "duration": 6,
    "start_time": "2022-01-07T20:20:26.473Z"
   },
   {
    "duration": 1742,
    "start_time": "2022-01-07T20:20:34.756Z"
   },
   {
    "duration": 66,
    "start_time": "2022-01-07T20:20:36.501Z"
   },
   {
    "duration": 8,
    "start_time": "2022-01-07T20:20:36.571Z"
   },
   {
    "duration": 8,
    "start_time": "2022-01-07T20:20:36.582Z"
   },
   {
    "duration": 98,
    "start_time": "2022-01-07T20:20:36.593Z"
   },
   {
    "duration": 24,
    "start_time": "2022-01-07T20:20:36.693Z"
   },
   {
    "duration": 2697,
    "start_time": "2022-01-07T20:20:36.720Z"
   },
   {
    "duration": 2795,
    "start_time": "2022-01-07T20:20:39.421Z"
   },
   {
    "duration": 3891,
    "start_time": "2022-01-07T20:20:42.219Z"
   },
   {
    "duration": 30,
    "start_time": "2022-01-07T20:20:46.112Z"
   },
   {
    "duration": 1600,
    "start_time": "2022-01-07T20:20:46.145Z"
   },
   {
    "duration": 10,
    "start_time": "2022-01-07T20:20:47.759Z"
   },
   {
    "duration": 102,
    "start_time": "2022-01-07T20:20:47.771Z"
   },
   {
    "duration": 142,
    "start_time": "2022-01-07T20:20:47.881Z"
   },
   {
    "duration": 40,
    "start_time": "2022-01-07T20:20:48.026Z"
   },
   {
    "duration": 14,
    "start_time": "2022-01-07T20:20:48.068Z"
   },
   {
    "duration": 8,
    "start_time": "2022-01-07T20:20:48.085Z"
   },
   {
    "duration": 1268,
    "start_time": "2022-01-07T20:20:48.095Z"
   },
   {
    "duration": 143132,
    "start_time": "2022-01-07T20:22:52.430Z"
   },
   {
    "duration": 145682,
    "start_time": "2022-01-07T20:27:55.149Z"
   },
   {
    "duration": 27,
    "start_time": "2022-01-07T20:31:36.781Z"
   },
   {
    "duration": 4,
    "start_time": "2022-01-07T20:34:08.852Z"
   },
   {
    "duration": 1729,
    "start_time": "2022-01-07T20:34:48.635Z"
   },
   {
    "duration": 404,
    "start_time": "2022-01-07T20:40:15.380Z"
   },
   {
    "duration": 3601,
    "start_time": "2022-01-07T20:40:23.876Z"
   },
   {
    "duration": 27,
    "start_time": "2022-01-07T20:41:48.889Z"
   },
   {
    "duration": 5,
    "start_time": "2022-01-07T20:46:19.566Z"
   },
   {
    "duration": 5,
    "start_time": "2022-01-07T20:46:25.472Z"
   },
   {
    "duration": 6,
    "start_time": "2022-01-07T20:47:15.378Z"
   },
   {
    "duration": 26,
    "start_time": "2022-01-07T20:47:22.165Z"
   },
   {
    "duration": 4,
    "start_time": "2022-01-07T20:47:25.187Z"
   },
   {
    "duration": 4,
    "start_time": "2022-01-07T20:54:54.132Z"
   },
   {
    "duration": 26,
    "start_time": "2022-01-07T20:54:59.852Z"
   },
   {
    "duration": 442,
    "start_time": "2022-01-07T22:01:10.281Z"
   },
   {
    "duration": 418,
    "start_time": "2022-01-07T22:01:31.146Z"
   },
   {
    "duration": 865,
    "start_time": "2022-01-07T22:05:18.639Z"
   },
   {
    "duration": 1744,
    "start_time": "2022-01-07T22:06:12.690Z"
   },
   {
    "duration": 1635,
    "start_time": "2022-01-07T22:07:56.491Z"
   },
   {
    "duration": 50,
    "start_time": "2022-01-07T22:07:58.129Z"
   },
   {
    "duration": 7,
    "start_time": "2022-01-07T22:07:58.182Z"
   },
   {
    "duration": 21,
    "start_time": "2022-01-07T22:07:58.192Z"
   },
   {
    "duration": 94,
    "start_time": "2022-01-07T22:07:58.215Z"
   },
   {
    "duration": 28,
    "start_time": "2022-01-07T22:07:58.312Z"
   },
   {
    "duration": 2746,
    "start_time": "2022-01-07T22:07:58.343Z"
   },
   {
    "duration": 2783,
    "start_time": "2022-01-07T22:08:01.093Z"
   },
   {
    "duration": 3807,
    "start_time": "2022-01-07T22:08:03.879Z"
   },
   {
    "duration": 28,
    "start_time": "2022-01-07T22:08:07.688Z"
   },
   {
    "duration": 1560,
    "start_time": "2022-01-07T22:08:07.718Z"
   },
   {
    "duration": 9,
    "start_time": "2022-01-07T22:08:09.281Z"
   },
   {
    "duration": 68,
    "start_time": "2022-01-07T22:08:09.292Z"
   },
   {
    "duration": 237,
    "start_time": "2022-01-07T22:08:09.368Z"
   },
   {
    "duration": 13,
    "start_time": "2022-01-07T22:08:09.608Z"
   },
   {
    "duration": 13,
    "start_time": "2022-01-07T22:08:09.624Z"
   },
   {
    "duration": 8,
    "start_time": "2022-01-07T22:08:09.660Z"
   },
   {
    "duration": 139311,
    "start_time": "2022-01-07T22:08:09.670Z"
   },
   {
    "duration": 3683,
    "start_time": "2022-01-07T22:10:28.983Z"
   },
   {
    "duration": 27,
    "start_time": "2022-01-07T22:10:32.668Z"
   },
   {
    "duration": 1822,
    "start_time": "2022-01-07T22:10:32.698Z"
   },
   {
    "duration": 3618,
    "start_time": "2022-01-07T22:47:47.949Z"
   },
   {
    "duration": 144845,
    "start_time": "2022-01-07T22:54:35.470Z"
   },
   {
    "duration": 1555,
    "start_time": "2022-01-07T23:44:26.461Z"
   },
   {
    "duration": 1557,
    "start_time": "2022-01-07T23:44:41.746Z"
   },
   {
    "duration": 49,
    "start_time": "2022-01-07T23:44:43.306Z"
   },
   {
    "duration": 7,
    "start_time": "2022-01-07T23:44:43.358Z"
   },
   {
    "duration": 8,
    "start_time": "2022-01-07T23:44:43.367Z"
   },
   {
    "duration": 95,
    "start_time": "2022-01-07T23:44:43.377Z"
   },
   {
    "duration": 22,
    "start_time": "2022-01-07T23:44:43.474Z"
   },
   {
    "duration": 2822,
    "start_time": "2022-01-07T23:44:43.499Z"
   },
   {
    "duration": 2760,
    "start_time": "2022-01-07T23:44:46.327Z"
   },
   {
    "duration": 3809,
    "start_time": "2022-01-07T23:44:49.090Z"
   },
   {
    "duration": 29,
    "start_time": "2022-01-07T23:44:52.902Z"
   },
   {
    "duration": 1532,
    "start_time": "2022-01-07T23:44:52.934Z"
   },
   {
    "duration": 9,
    "start_time": "2022-01-07T23:44:54.469Z"
   },
   {
    "duration": 82,
    "start_time": "2022-01-07T23:44:54.480Z"
   },
   {
    "duration": 193,
    "start_time": "2022-01-07T23:44:54.566Z"
   },
   {
    "duration": 16,
    "start_time": "2022-01-07T23:44:54.762Z"
   },
   {
    "duration": 14,
    "start_time": "2022-01-07T23:44:54.780Z"
   },
   {
    "duration": 9,
    "start_time": "2022-01-07T23:44:54.796Z"
   },
   {
    "duration": 138042,
    "start_time": "2022-01-07T23:44:54.808Z"
   },
   {
    "duration": 3810,
    "start_time": "2022-01-07T23:47:12.859Z"
   },
   {
    "duration": 27,
    "start_time": "2022-01-07T23:47:16.672Z"
   },
   {
    "duration": 1549,
    "start_time": "2022-01-07T23:47:16.702Z"
   },
   {
    "duration": 1664,
    "start_time": "2022-01-08T13:07:38.069Z"
   },
   {
    "duration": 51,
    "start_time": "2022-01-08T13:07:39.737Z"
   },
   {
    "duration": 8,
    "start_time": "2022-01-08T13:07:39.791Z"
   },
   {
    "duration": 15,
    "start_time": "2022-01-08T13:07:39.818Z"
   },
   {
    "duration": 125,
    "start_time": "2022-01-08T13:07:39.836Z"
   },
   {
    "duration": 31,
    "start_time": "2022-01-08T13:07:39.963Z"
   },
   {
    "duration": 3462,
    "start_time": "2022-01-08T13:07:39.996Z"
   },
   {
    "duration": 2856,
    "start_time": "2022-01-08T13:07:43.462Z"
   },
   {
    "duration": 3835,
    "start_time": "2022-01-08T13:07:46.323Z"
   },
   {
    "duration": 28,
    "start_time": "2022-01-08T13:07:50.160Z"
   },
   {
    "duration": 1602,
    "start_time": "2022-01-08T13:07:50.191Z"
   },
   {
    "duration": 25,
    "start_time": "2022-01-08T13:07:51.796Z"
   },
   {
    "duration": 47,
    "start_time": "2022-01-08T13:07:51.823Z"
   },
   {
    "duration": 147,
    "start_time": "2022-01-08T13:07:51.916Z"
   },
   {
    "duration": 14,
    "start_time": "2022-01-08T13:07:52.065Z"
   },
   {
    "duration": 35,
    "start_time": "2022-01-08T13:07:52.082Z"
   },
   {
    "duration": 9,
    "start_time": "2022-01-08T13:07:52.129Z"
   },
   {
    "duration": 141794,
    "start_time": "2022-01-08T13:07:52.141Z"
   },
   {
    "duration": 3695,
    "start_time": "2022-01-08T13:10:13.937Z"
   },
   {
    "duration": 29,
    "start_time": "2022-01-08T13:10:17.635Z"
   },
   {
    "duration": 1680,
    "start_time": "2022-01-08T13:10:17.667Z"
   },
   {
    "duration": 34,
    "start_time": "2022-01-08T13:30:29.494Z"
   },
   {
    "duration": 1543,
    "start_time": "2022-01-08T14:40:32.751Z"
   },
   {
    "duration": 47,
    "start_time": "2022-01-08T14:40:34.297Z"
   },
   {
    "duration": 8,
    "start_time": "2022-01-08T14:40:34.347Z"
   },
   {
    "duration": 7,
    "start_time": "2022-01-08T14:40:34.358Z"
   },
   {
    "duration": 100,
    "start_time": "2022-01-08T14:40:34.367Z"
   },
   {
    "duration": 23,
    "start_time": "2022-01-08T14:40:34.470Z"
   },
   {
    "duration": 2667,
    "start_time": "2022-01-08T14:40:34.495Z"
   },
   {
    "duration": 2700,
    "start_time": "2022-01-08T14:40:37.166Z"
   },
   {
    "duration": 3778,
    "start_time": "2022-01-08T14:40:39.869Z"
   },
   {
    "duration": 30,
    "start_time": "2022-01-08T14:40:43.649Z"
   },
   {
    "duration": 1530,
    "start_time": "2022-01-08T14:40:43.682Z"
   },
   {
    "duration": 12,
    "start_time": "2022-01-08T14:40:45.218Z"
   },
   {
    "duration": 89,
    "start_time": "2022-01-08T14:40:45.233Z"
   },
   {
    "duration": 146,
    "start_time": "2022-01-08T14:40:45.326Z"
   },
   {
    "duration": 13,
    "start_time": "2022-01-08T14:40:45.474Z"
   },
   {
    "duration": 13,
    "start_time": "2022-01-08T14:40:45.517Z"
   },
   {
    "duration": 8,
    "start_time": "2022-01-08T14:40:45.533Z"
   },
   {
    "duration": 3,
    "start_time": "2022-01-08T14:40:45.543Z"
   },
   {
    "duration": 3678,
    "start_time": "2022-01-08T14:40:45.548Z"
   },
   {
    "duration": 104,
    "start_time": "2022-01-08T14:40:49.229Z"
   },
   {
    "duration": 1578,
    "start_time": "2022-01-08T14:40:49.335Z"
   },
   {
    "duration": 30,
    "start_time": "2022-01-08T14:40:50.916Z"
   },
   {
    "duration": 306,
    "start_time": "2022-01-08T14:41:48.413Z"
   },
   {
    "duration": 283,
    "start_time": "2022-01-08T14:42:07.149Z"
   },
   {
    "duration": 420,
    "start_time": "2022-01-08T14:42:16.266Z"
   },
   {
    "duration": 278,
    "start_time": "2022-01-08T14:42:24.658Z"
   },
   {
    "duration": 296,
    "start_time": "2022-01-08T14:42:30.410Z"
   },
   {
    "duration": 31,
    "start_time": "2022-01-08T14:43:51.865Z"
   },
   {
    "duration": 387,
    "start_time": "2022-01-08T14:44:20.832Z"
   },
   {
    "duration": 6,
    "start_time": "2022-01-08T14:44:28.563Z"
   },
   {
    "duration": 22,
    "start_time": "2022-01-08T14:46:00.932Z"
   },
   {
    "duration": 24,
    "start_time": "2022-01-08T14:46:22.596Z"
   },
   {
    "duration": 10,
    "start_time": "2022-01-08T14:47:16.728Z"
   },
   {
    "duration": 10,
    "start_time": "2022-01-08T14:47:32.177Z"
   },
   {
    "duration": 6,
    "start_time": "2022-01-08T14:47:37.997Z"
   },
   {
    "duration": 427,
    "start_time": "2022-01-08T14:48:01.052Z"
   },
   {
    "duration": 18,
    "start_time": "2022-01-08T14:48:12.308Z"
   },
   {
    "duration": 10,
    "start_time": "2022-01-08T14:48:21.429Z"
   },
   {
    "duration": 7,
    "start_time": "2022-01-08T14:48:31.084Z"
   },
   {
    "duration": 5,
    "start_time": "2022-01-08T14:48:57.047Z"
   },
   {
    "duration": 6,
    "start_time": "2022-01-08T14:49:09.083Z"
   },
   {
    "duration": 311,
    "start_time": "2022-01-08T15:15:00.584Z"
   },
   {
    "duration": 386,
    "start_time": "2022-01-08T15:15:12.140Z"
   },
   {
    "duration": 102,
    "start_time": "2022-01-08T15:18:44.355Z"
   },
   {
    "duration": 109,
    "start_time": "2022-01-08T15:19:13.773Z"
   },
   {
    "duration": 140,
    "start_time": "2022-01-08T15:20:44.058Z"
   },
   {
    "duration": 94,
    "start_time": "2022-01-08T15:21:14.302Z"
   },
   {
    "duration": 99,
    "start_time": "2022-01-08T15:21:54.497Z"
   },
   {
    "duration": 135,
    "start_time": "2022-01-08T15:22:24.921Z"
   },
   {
    "duration": 118,
    "start_time": "2022-01-08T15:22:28.482Z"
   },
   {
    "duration": 95,
    "start_time": "2022-01-08T15:22:36.723Z"
   },
   {
    "duration": 90,
    "start_time": "2022-01-08T15:23:09.715Z"
   },
   {
    "duration": 321,
    "start_time": "2022-01-08T15:23:35.171Z"
   },
   {
    "duration": 306,
    "start_time": "2022-01-08T15:23:48.174Z"
   },
   {
    "duration": 313,
    "start_time": "2022-01-08T15:24:00.387Z"
   },
   {
    "duration": 285,
    "start_time": "2022-01-08T15:25:33.184Z"
   },
   {
    "duration": 470,
    "start_time": "2022-01-08T15:26:07.082Z"
   },
   {
    "duration": 1541,
    "start_time": "2022-01-08T15:27:22.946Z"
   },
   {
    "duration": 50,
    "start_time": "2022-01-08T15:27:24.489Z"
   },
   {
    "duration": 7,
    "start_time": "2022-01-08T15:27:24.542Z"
   },
   {
    "duration": 11,
    "start_time": "2022-01-08T15:27:24.552Z"
   },
   {
    "duration": 95,
    "start_time": "2022-01-08T15:27:24.566Z"
   },
   {
    "duration": 23,
    "start_time": "2022-01-08T15:27:24.663Z"
   },
   {
    "duration": 2814,
    "start_time": "2022-01-08T15:27:24.688Z"
   },
   {
    "duration": 2646,
    "start_time": "2022-01-08T15:27:27.506Z"
   },
   {
    "duration": 3966,
    "start_time": "2022-01-08T15:27:30.156Z"
   },
   {
    "duration": 30,
    "start_time": "2022-01-08T15:27:34.125Z"
   },
   {
    "duration": 1866,
    "start_time": "2022-01-08T15:27:34.158Z"
   },
   {
    "duration": 11,
    "start_time": "2022-01-08T15:27:36.027Z"
   },
   {
    "duration": 85,
    "start_time": "2022-01-08T15:27:36.041Z"
   },
   {
    "duration": 188,
    "start_time": "2022-01-08T15:27:36.129Z"
   },
   {
    "duration": 13,
    "start_time": "2022-01-08T15:27:36.319Z"
   },
   {
    "duration": 12,
    "start_time": "2022-01-08T15:27:36.335Z"
   },
   {
    "duration": 8,
    "start_time": "2022-01-08T15:27:36.349Z"
   },
   {
    "duration": 4,
    "start_time": "2022-01-08T15:27:36.359Z"
   },
   {
    "duration": 3461,
    "start_time": "2022-01-08T15:27:36.365Z"
   },
   {
    "duration": 27,
    "start_time": "2022-01-08T15:27:39.918Z"
   },
   {
    "duration": 1617,
    "start_time": "2022-01-08T15:27:39.948Z"
   },
   {
    "duration": 341,
    "start_time": "2022-01-08T15:27:41.567Z"
   },
   {
    "duration": 355,
    "start_time": "2022-01-08T15:27:41.917Z"
   },
   {
    "duration": 407,
    "start_time": "2022-01-08T15:27:42.275Z"
   },
   {
    "duration": 288,
    "start_time": "2022-01-08T15:27:42.684Z"
   },
   {
    "duration": 300,
    "start_time": "2022-01-08T15:27:42.974Z"
   },
   {
    "duration": 8,
    "start_time": "2022-01-08T15:27:43.277Z"
   },
   {
    "duration": 29,
    "start_time": "2022-01-08T15:27:43.288Z"
   },
   {
    "duration": 4,
    "start_time": "2022-01-08T15:27:43.319Z"
   },
   {
    "duration": 8,
    "start_time": "2022-01-08T15:27:43.325Z"
   },
   {
    "duration": 1692,
    "start_time": "2022-01-08T17:05:00.504Z"
   },
   {
    "duration": 47,
    "start_time": "2022-01-08T17:05:02.199Z"
   },
   {
    "duration": 6,
    "start_time": "2022-01-08T17:05:02.249Z"
   },
   {
    "duration": 8,
    "start_time": "2022-01-08T17:05:02.258Z"
   },
   {
    "duration": 102,
    "start_time": "2022-01-08T17:05:02.268Z"
   },
   {
    "duration": 51,
    "start_time": "2022-01-08T17:05:02.373Z"
   },
   {
    "duration": 2869,
    "start_time": "2022-01-08T17:05:02.426Z"
   },
   {
    "duration": 2678,
    "start_time": "2022-01-08T17:05:05.299Z"
   },
   {
    "duration": 4024,
    "start_time": "2022-01-08T17:05:07.980Z"
   },
   {
    "duration": 37,
    "start_time": "2022-01-08T17:05:12.007Z"
   },
   {
    "duration": 1595,
    "start_time": "2022-01-08T17:05:12.047Z"
   },
   {
    "duration": 10,
    "start_time": "2022-01-08T17:05:13.644Z"
   },
   {
    "duration": 80,
    "start_time": "2022-01-08T17:05:13.656Z"
   },
   {
    "duration": 147,
    "start_time": "2022-01-08T17:05:13.819Z"
   },
   {
    "duration": 13,
    "start_time": "2022-01-08T17:05:13.969Z"
   },
   {
    "duration": 37,
    "start_time": "2022-01-08T17:05:13.986Z"
   },
   {
    "duration": 9,
    "start_time": "2022-01-08T17:05:14.026Z"
   },
   {
    "duration": 149756,
    "start_time": "2022-01-08T17:05:14.038Z"
   },
   {
    "duration": 3829,
    "start_time": "2022-01-08T17:07:43.796Z"
   },
   {
    "duration": 26,
    "start_time": "2022-01-08T17:07:47.627Z"
   },
   {
    "duration": 1631,
    "start_time": "2022-01-08T17:07:47.655Z"
   },
   {
    "duration": 398,
    "start_time": "2022-01-08T17:07:49.288Z"
   },
   {
    "duration": 395,
    "start_time": "2022-01-08T17:07:49.692Z"
   },
   {
    "duration": 417,
    "start_time": "2022-01-08T17:07:50.090Z"
   },
   {
    "duration": 429,
    "start_time": "2022-01-08T17:07:50.517Z"
   },
   {
    "duration": 512,
    "start_time": "2022-01-08T17:07:50.949Z"
   },
   {
    "duration": 12,
    "start_time": "2022-01-08T17:07:51.465Z"
   },
   {
    "duration": 10,
    "start_time": "2022-01-08T17:07:51.480Z"
   },
   {
    "duration": 27,
    "start_time": "2022-01-08T17:07:51.492Z"
   },
   {
    "duration": 10,
    "start_time": "2022-01-08T17:07:51.522Z"
   },
   {
    "duration": 6,
    "start_time": "2022-01-08T18:48:09.064Z"
   },
   {
    "duration": 6,
    "start_time": "2022-01-08T18:48:14.353Z"
   },
   {
    "duration": 7,
    "start_time": "2022-01-08T18:48:39.513Z"
   },
   {
    "duration": 345,
    "start_time": "2022-01-08T21:14:12.127Z"
   },
   {
    "duration": 285,
    "start_time": "2022-01-08T21:14:32.514Z"
   },
   {
    "duration": 1527,
    "start_time": "2022-01-08T21:14:47.640Z"
   },
   {
    "duration": 46,
    "start_time": "2022-01-08T21:14:49.170Z"
   },
   {
    "duration": 6,
    "start_time": "2022-01-08T21:14:49.224Z"
   },
   {
    "duration": 15,
    "start_time": "2022-01-08T21:14:49.233Z"
   },
   {
    "duration": 89,
    "start_time": "2022-01-08T21:14:49.250Z"
   },
   {
    "duration": 23,
    "start_time": "2022-01-08T21:14:49.341Z"
   },
   {
    "duration": 40,
    "start_time": "2022-01-08T21:14:49.367Z"
   },
   {
    "duration": 518,
    "start_time": "2022-01-08T21:14:49.423Z"
   },
   {
    "duration": 656,
    "start_time": "2022-01-08T21:14:49.289Z"
   },
   {
    "duration": 650,
    "start_time": "2022-01-08T21:14:49.296Z"
   },
   {
    "duration": 645,
    "start_time": "2022-01-08T21:14:49.303Z"
   },
   {
    "duration": 526,
    "start_time": "2022-01-08T21:14:49.423Z"
   },
   {
    "duration": 513,
    "start_time": "2022-01-08T21:14:49.437Z"
   },
   {
    "duration": 508,
    "start_time": "2022-01-08T21:14:49.444Z"
   },
   {
    "duration": 501,
    "start_time": "2022-01-08T21:14:49.452Z"
   },
   {
    "duration": 485,
    "start_time": "2022-01-08T21:14:49.470Z"
   },
   {
    "duration": 482,
    "start_time": "2022-01-08T21:14:49.474Z"
   },
   {
    "duration": 480,
    "start_time": "2022-01-08T21:14:49.478Z"
   },
   {
    "duration": 476,
    "start_time": "2022-01-08T21:14:49.483Z"
   },
   {
    "duration": 473,
    "start_time": "2022-01-08T21:14:49.487Z"
   },
   {
    "duration": 471,
    "start_time": "2022-01-08T21:14:49.491Z"
   },
   {
    "duration": 469,
    "start_time": "2022-01-08T21:14:49.494Z"
   },
   {
    "duration": 467,
    "start_time": "2022-01-08T21:14:49.498Z"
   },
   {
    "duration": 464,
    "start_time": "2022-01-08T21:14:49.502Z"
   },
   {
    "duration": 460,
    "start_time": "2022-01-08T21:14:49.508Z"
   },
   {
    "duration": 448,
    "start_time": "2022-01-08T21:14:49.521Z"
   },
   {
    "duration": 446,
    "start_time": "2022-01-08T21:14:49.525Z"
   },
   {
    "duration": 443,
    "start_time": "2022-01-08T21:14:49.529Z"
   },
   {
    "duration": 389,
    "start_time": "2022-01-08T21:14:49.584Z"
   },
   {
    "duration": 385,
    "start_time": "2022-01-08T21:14:49.590Z"
   },
   {
    "duration": 379,
    "start_time": "2022-01-08T21:14:49.597Z"
   },
   {
    "duration": 9,
    "start_time": "2022-01-08T21:41:40.093Z"
   },
   {
    "duration": 9,
    "start_time": "2022-01-08T21:44:13.678Z"
   },
   {
    "duration": 287,
    "start_time": "2022-01-08T21:50:59.186Z"
   },
   {
    "duration": 2565,
    "start_time": "2022-01-08T21:52:30.800Z"
   },
   {
    "duration": 2508,
    "start_time": "2022-01-08T21:52:43.917Z"
   },
   {
    "duration": 3646,
    "start_time": "2022-01-08T21:52:58.977Z"
   },
   {
    "duration": 468,
    "start_time": "2022-01-08T21:53:58.188Z"
   },
   {
    "duration": 462,
    "start_time": "2022-01-08T21:53:58.195Z"
   },
   {
    "duration": 519,
    "start_time": "2022-01-08T21:53:58.203Z"
   },
   {
    "duration": 510,
    "start_time": "2022-01-08T21:53:58.214Z"
   },
   {
    "duration": 508,
    "start_time": "2022-01-08T21:53:58.217Z"
   },
   {
    "duration": 506,
    "start_time": "2022-01-08T21:53:58.221Z"
   },
   {
    "duration": 504,
    "start_time": "2022-01-08T21:53:58.224Z"
   },
   {
    "duration": 503,
    "start_time": "2022-01-08T21:53:58.227Z"
   },
   {
    "duration": 501,
    "start_time": "2022-01-08T21:53:58.230Z"
   },
   {
    "duration": 497,
    "start_time": "2022-01-08T21:53:58.235Z"
   },
   {
    "duration": 496,
    "start_time": "2022-01-08T21:53:58.238Z"
   },
   {
    "duration": 484,
    "start_time": "2022-01-08T21:53:58.251Z"
   },
   {
    "duration": 481,
    "start_time": "2022-01-08T21:53:58.256Z"
   },
   {
    "duration": 479,
    "start_time": "2022-01-08T21:53:58.259Z"
   },
   {
    "duration": 477,
    "start_time": "2022-01-08T21:53:58.262Z"
   },
   {
    "duration": 476,
    "start_time": "2022-01-08T21:53:58.265Z"
   },
   {
    "duration": 474,
    "start_time": "2022-01-08T21:53:58.268Z"
   },
   {
    "duration": 472,
    "start_time": "2022-01-08T21:53:58.272Z"
   },
   {
    "duration": 470,
    "start_time": "2022-01-08T21:53:58.275Z"
   },
   {
    "duration": 467,
    "start_time": "2022-01-08T21:53:58.279Z"
   },
   {
    "duration": 466,
    "start_time": "2022-01-08T21:53:58.282Z"
   },
   {
    "duration": 463,
    "start_time": "2022-01-08T21:53:58.286Z"
   },
   {
    "duration": 461,
    "start_time": "2022-01-08T21:53:58.289Z"
   },
   {
    "duration": 460,
    "start_time": "2022-01-08T21:53:58.292Z"
   },
   {
    "duration": 458,
    "start_time": "2022-01-08T21:53:58.295Z"
   },
   {
    "duration": 456,
    "start_time": "2022-01-08T21:53:58.299Z"
   },
   {
    "duration": 454,
    "start_time": "2022-01-08T21:53:58.302Z"
   },
   {
    "duration": 451,
    "start_time": "2022-01-08T21:53:58.306Z"
   },
   {
    "duration": 450,
    "start_time": "2022-01-08T21:53:58.309Z"
   },
   {
    "duration": 515,
    "start_time": "2022-01-08T21:53:58.313Z"
   },
   {
    "duration": 513,
    "start_time": "2022-01-08T21:53:58.316Z"
   },
   {
    "duration": 511,
    "start_time": "2022-01-08T21:53:58.320Z"
   },
   {
    "duration": 510,
    "start_time": "2022-01-08T21:53:58.323Z"
   },
   {
    "duration": 1521,
    "start_time": "2022-01-08T21:56:32.173Z"
   },
   {
    "duration": 53,
    "start_time": "2022-01-08T21:56:33.697Z"
   },
   {
    "duration": 8,
    "start_time": "2022-01-08T21:56:33.754Z"
   },
   {
    "duration": 10,
    "start_time": "2022-01-08T21:56:33.765Z"
   },
   {
    "duration": 95,
    "start_time": "2022-01-08T21:56:33.777Z"
   },
   {
    "duration": 22,
    "start_time": "2022-01-08T21:56:33.875Z"
   },
   {
    "duration": 25,
    "start_time": "2022-01-08T21:56:33.899Z"
   },
   {
    "duration": 11,
    "start_time": "2022-01-08T21:56:33.928Z"
   },
   {
    "duration": 23,
    "start_time": "2022-01-08T21:56:33.942Z"
   },
   {
    "duration": 2573,
    "start_time": "2022-01-08T21:56:33.967Z"
   },
   {
    "duration": 2646,
    "start_time": "2022-01-08T21:56:36.543Z"
   },
   {
    "duration": 3559,
    "start_time": "2022-01-08T21:56:39.192Z"
   },
   {
    "duration": 23,
    "start_time": "2022-01-08T21:56:42.752Z"
   },
   {
    "duration": 1258,
    "start_time": "2022-01-08T21:56:42.777Z"
   },
   {
    "duration": 9,
    "start_time": "2022-01-08T21:56:44.037Z"
   },
   {
    "duration": 415,
    "start_time": "2022-01-08T21:56:44.048Z"
   },
   {
    "duration": 845,
    "start_time": "2022-01-08T21:56:43.621Z"
   },
   {
    "duration": 840,
    "start_time": "2022-01-08T21:56:43.628Z"
   },
   {
    "duration": 828,
    "start_time": "2022-01-08T21:56:43.642Z"
   },
   {
    "duration": 824,
    "start_time": "2022-01-08T21:56:43.647Z"
   },
   {
    "duration": 821,
    "start_time": "2022-01-08T21:56:43.651Z"
   },
   {
    "duration": 820,
    "start_time": "2022-01-08T21:56:43.655Z"
   },
   {
    "duration": 817,
    "start_time": "2022-01-08T21:56:43.659Z"
   },
   {
    "duration": 815,
    "start_time": "2022-01-08T21:56:43.663Z"
   },
   {
    "duration": 812,
    "start_time": "2022-01-08T21:56:43.667Z"
   },
   {
    "duration": 810,
    "start_time": "2022-01-08T21:56:43.671Z"
   },
   {
    "duration": 806,
    "start_time": "2022-01-08T21:56:43.676Z"
   },
   {
    "duration": 803,
    "start_time": "2022-01-08T21:56:43.680Z"
   },
   {
    "duration": 801,
    "start_time": "2022-01-08T21:56:43.684Z"
   },
   {
    "duration": 798,
    "start_time": "2022-01-08T21:56:43.688Z"
   },
   {
    "duration": 796,
    "start_time": "2022-01-08T21:56:43.691Z"
   },
   {
    "duration": 794,
    "start_time": "2022-01-08T21:56:43.695Z"
   },
   {
    "duration": 791,
    "start_time": "2022-01-08T21:56:43.699Z"
   },
   {
    "duration": 1552,
    "start_time": "2022-01-08T21:57:51.182Z"
   },
   {
    "duration": 45,
    "start_time": "2022-01-08T21:57:52.736Z"
   },
   {
    "duration": 6,
    "start_time": "2022-01-08T21:57:52.784Z"
   },
   {
    "duration": 7,
    "start_time": "2022-01-08T21:57:52.793Z"
   },
   {
    "duration": 69,
    "start_time": "2022-01-08T21:57:52.824Z"
   },
   {
    "duration": 37,
    "start_time": "2022-01-08T21:57:52.896Z"
   },
   {
    "duration": 556,
    "start_time": "2022-01-08T21:57:52.935Z"
   },
   {
    "duration": 817,
    "start_time": "2022-01-08T21:57:52.678Z"
   },
   {
    "duration": 815,
    "start_time": "2022-01-08T21:57:52.681Z"
   },
   {
    "duration": 812,
    "start_time": "2022-01-08T21:57:52.685Z"
   },
   {
    "duration": 811,
    "start_time": "2022-01-08T21:57:52.688Z"
   },
   {
    "duration": 806,
    "start_time": "2022-01-08T21:57:52.694Z"
   },
   {
    "duration": 805,
    "start_time": "2022-01-08T21:57:52.697Z"
   },
   {
    "duration": 803,
    "start_time": "2022-01-08T21:57:52.700Z"
   },
   {
    "duration": 802,
    "start_time": "2022-01-08T21:57:52.703Z"
   },
   {
    "duration": 799,
    "start_time": "2022-01-08T21:57:52.707Z"
   },
   {
    "duration": 765,
    "start_time": "2022-01-08T21:57:52.742Z"
   },
   {
    "duration": 757,
    "start_time": "2022-01-08T21:57:52.751Z"
   },
   {
    "duration": 755,
    "start_time": "2022-01-08T21:57:52.755Z"
   },
   {
    "duration": 754,
    "start_time": "2022-01-08T21:57:52.758Z"
   },
   {
    "duration": 752,
    "start_time": "2022-01-08T21:57:52.761Z"
   },
   {
    "duration": 750,
    "start_time": "2022-01-08T21:57:52.764Z"
   },
   {
    "duration": 748,
    "start_time": "2022-01-08T21:57:52.768Z"
   },
   {
    "duration": 746,
    "start_time": "2022-01-08T21:57:52.771Z"
   },
   {
    "duration": 744,
    "start_time": "2022-01-08T21:57:52.774Z"
   },
   {
    "duration": 742,
    "start_time": "2022-01-08T21:57:52.778Z"
   },
   {
    "duration": 739,
    "start_time": "2022-01-08T21:57:52.782Z"
   },
   {
    "duration": 737,
    "start_time": "2022-01-08T21:57:52.786Z"
   },
   {
    "duration": 735,
    "start_time": "2022-01-08T21:57:52.789Z"
   },
   {
    "duration": 733,
    "start_time": "2022-01-08T21:57:52.792Z"
   },
   {
    "duration": 2579,
    "start_time": "2022-01-08T21:58:49.620Z"
   },
   {
    "duration": 1540,
    "start_time": "2022-01-08T21:59:00.504Z"
   },
   {
    "duration": 50,
    "start_time": "2022-01-08T21:59:02.046Z"
   },
   {
    "duration": 7,
    "start_time": "2022-01-08T21:59:02.099Z"
   },
   {
    "duration": 8,
    "start_time": "2022-01-08T21:59:02.124Z"
   },
   {
    "duration": 91,
    "start_time": "2022-01-08T21:59:02.134Z"
   },
   {
    "duration": 23,
    "start_time": "2022-01-08T21:59:02.227Z"
   },
   {
    "duration": 2699,
    "start_time": "2022-01-08T21:59:02.253Z"
   },
   {
    "duration": 2707,
    "start_time": "2022-01-08T21:59:04.956Z"
   },
   {
    "duration": 3746,
    "start_time": "2022-01-08T21:59:07.666Z"
   },
   {
    "duration": 34,
    "start_time": "2022-01-08T21:59:11.416Z"
   },
   {
    "duration": 1523,
    "start_time": "2022-01-08T21:59:11.453Z"
   },
   {
    "duration": 13,
    "start_time": "2022-01-08T21:59:12.979Z"
   },
   {
    "duration": 130,
    "start_time": "2022-01-08T21:59:12.994Z"
   },
   {
    "duration": 80,
    "start_time": "2022-01-08T21:59:13.228Z"
   },
   {
    "duration": 23,
    "start_time": "2022-01-08T21:59:13.311Z"
   },
   {
    "duration": 14,
    "start_time": "2022-01-08T21:59:13.336Z"
   },
   {
    "duration": 9,
    "start_time": "2022-01-08T21:59:13.353Z"
   },
   {
    "duration": 137377,
    "start_time": "2022-01-08T21:59:13.365Z"
   },
   {
    "duration": 3779,
    "start_time": "2022-01-08T22:01:30.745Z"
   },
   {
    "duration": 26,
    "start_time": "2022-01-08T22:01:34.527Z"
   },
   {
    "duration": 1565,
    "start_time": "2022-01-08T22:01:34.555Z"
   },
   {
    "duration": 310,
    "start_time": "2022-01-08T22:01:36.124Z"
   },
   {
    "duration": 273,
    "start_time": "2022-01-08T22:01:36.438Z"
   },
   {
    "duration": 284,
    "start_time": "2022-01-08T22:01:36.714Z"
   },
   {
    "duration": 276,
    "start_time": "2022-01-08T22:01:37.001Z"
   },
   {
    "duration": 289,
    "start_time": "2022-01-08T22:01:37.279Z"
   },
   {
    "duration": 8,
    "start_time": "2022-01-08T22:01:37.571Z"
   },
   {
    "duration": 9,
    "start_time": "2022-01-08T22:01:37.581Z"
   },
   {
    "duration": 4,
    "start_time": "2022-01-08T22:01:37.593Z"
   },
   {
    "duration": 29,
    "start_time": "2022-01-08T22:01:37.599Z"
   },
   {
    "duration": 101,
    "start_time": "2022-01-08T22:20:35.800Z"
   },
   {
    "duration": 10,
    "start_time": "2022-01-08T22:20:42.229Z"
   },
   {
    "duration": 7,
    "start_time": "2022-01-08T22:20:45.123Z"
   },
   {
    "duration": 5,
    "start_time": "2022-01-08T22:20:51.942Z"
   },
   {
    "duration": 6,
    "start_time": "2022-01-08T22:20:54.495Z"
   },
   {
    "duration": 9,
    "start_time": "2022-01-08T22:23:44.334Z"
   },
   {
    "duration": 10,
    "start_time": "2022-01-08T22:25:45.254Z"
   },
   {
    "duration": 17,
    "start_time": "2022-01-08T23:06:40.669Z"
   },
   {
    "duration": 267,
    "start_time": "2022-01-08T23:12:07.150Z"
   },
   {
    "duration": 264,
    "start_time": "2022-01-08T23:12:19.091Z"
   },
   {
    "duration": 279,
    "start_time": "2022-01-08T23:12:30.330Z"
   },
   {
    "duration": 286,
    "start_time": "2022-01-08T23:12:41.820Z"
   },
   {
    "duration": 295,
    "start_time": "2022-01-08T23:12:53.223Z"
   },
   {
    "duration": 1591,
    "start_time": "2022-01-09T00:01:11.086Z"
   },
   {
    "duration": 48,
    "start_time": "2022-01-09T00:01:12.680Z"
   },
   {
    "duration": 6,
    "start_time": "2022-01-09T00:01:12.732Z"
   },
   {
    "duration": 10,
    "start_time": "2022-01-09T00:01:12.741Z"
   },
   {
    "duration": 9,
    "start_time": "2022-01-09T00:01:12.753Z"
   },
   {
    "duration": 59,
    "start_time": "2022-01-09T00:01:12.764Z"
   },
   {
    "duration": 123,
    "start_time": "2022-01-09T00:01:12.826Z"
   },
   {
    "duration": 36,
    "start_time": "2022-01-09T00:01:12.953Z"
   },
   {
    "duration": 4535,
    "start_time": "2022-01-09T00:01:12.995Z"
   },
   {
    "duration": 4588,
    "start_time": "2022-01-09T00:01:17.535Z"
   },
   {
    "duration": 4142,
    "start_time": "2022-01-09T00:01:22.127Z"
   },
   {
    "duration": 29,
    "start_time": "2022-01-09T00:01:26.271Z"
   },
   {
    "duration": 1560,
    "start_time": "2022-01-09T00:01:26.302Z"
   },
   {
    "duration": 10,
    "start_time": "2022-01-09T00:01:27.865Z"
   },
   {
    "duration": 77,
    "start_time": "2022-01-09T00:01:27.877Z"
   },
   {
    "duration": 149,
    "start_time": "2022-01-09T00:01:28.025Z"
   },
   {
    "duration": 18,
    "start_time": "2022-01-09T00:01:28.176Z"
   },
   {
    "duration": 34,
    "start_time": "2022-01-09T00:01:28.197Z"
   },
   {
    "duration": 9,
    "start_time": "2022-01-09T00:01:28.234Z"
   },
   {
    "duration": 136991,
    "start_time": "2022-01-09T00:01:28.246Z"
   },
   {
    "duration": 3690,
    "start_time": "2022-01-09T00:03:45.240Z"
   },
   {
    "duration": 27,
    "start_time": "2022-01-09T00:03:48.933Z"
   },
   {
    "duration": 302,
    "start_time": "2022-01-09T00:03:48.962Z"
   },
   {
    "duration": 261,
    "start_time": "2022-01-09T00:03:49.267Z"
   },
   {
    "duration": 258,
    "start_time": "2022-01-09T00:03:49.531Z"
   },
   {
    "duration": 269,
    "start_time": "2022-01-09T00:03:49.791Z"
   },
   {
    "duration": 268,
    "start_time": "2022-01-09T00:03:50.065Z"
   },
   {
    "duration": 13,
    "start_time": "2022-01-09T00:03:50.336Z"
   },
   {
    "duration": 1766,
    "start_time": "2022-01-09T17:50:07.216Z"
   },
   {
    "duration": 81,
    "start_time": "2022-01-09T17:50:08.985Z"
   },
   {
    "duration": 8,
    "start_time": "2022-01-09T17:50:31.064Z"
   },
   {
    "duration": 17702,
    "start_time": "2022-01-09T17:50:44.831Z"
   },
   {
    "duration": 10,
    "start_time": "2022-01-09T17:51:52.126Z"
   },
   {
    "duration": 16546,
    "start_time": "2022-01-09T17:51:55.710Z"
   },
   {
    "duration": 211,
    "start_time": "2022-01-09T17:52:30.836Z"
   },
   {
    "duration": 526,
    "start_time": "2022-01-09T17:53:04.634Z"
   },
   {
    "duration": 210,
    "start_time": "2022-01-09T17:53:08.971Z"
   },
   {
    "duration": 339,
    "start_time": "2022-01-09T18:01:25.535Z"
   },
   {
    "duration": 29,
    "start_time": "2022-01-09T18:01:30.433Z"
   },
   {
    "duration": 1653,
    "start_time": "2022-01-09T18:01:32.170Z"
   },
   {
    "duration": 1648,
    "start_time": "2022-04-29T16:29:29.768Z"
   },
   {
    "duration": 127,
    "start_time": "2022-04-29T16:29:31.418Z"
   },
   {
    "duration": 5,
    "start_time": "2022-04-29T16:29:31.547Z"
   },
   {
    "duration": 8,
    "start_time": "2022-04-29T16:29:31.553Z"
   },
   {
    "duration": 8,
    "start_time": "2022-04-29T16:29:31.563Z"
   },
   {
    "duration": 6,
    "start_time": "2022-04-29T16:29:31.573Z"
   },
   {
    "duration": 49,
    "start_time": "2022-04-29T16:29:31.581Z"
   },
   {
    "duration": 16,
    "start_time": "2022-04-29T16:29:31.632Z"
   },
   {
    "duration": 799,
    "start_time": "2022-04-29T16:29:31.650Z"
   },
   {
    "duration": 892,
    "start_time": "2022-04-29T16:29:32.452Z"
   },
   {
    "duration": 2232,
    "start_time": "2022-04-29T16:29:33.346Z"
   },
   {
    "duration": 31,
    "start_time": "2022-04-29T16:29:35.580Z"
   },
   {
    "duration": 1501,
    "start_time": "2022-04-29T16:29:35.613Z"
   },
   {
    "duration": 8,
    "start_time": "2022-04-29T16:29:37.116Z"
   },
   {
    "duration": 887,
    "start_time": "2022-04-29T16:29:37.126Z"
   },
   {
    "duration": 552,
    "start_time": "2022-04-29T16:29:38.016Z"
   },
   {
    "duration": 10,
    "start_time": "2022-04-29T16:29:38.569Z"
   },
   {
    "duration": 8,
    "start_time": "2022-04-29T16:29:38.581Z"
   },
   {
    "duration": 21,
    "start_time": "2022-04-29T16:29:38.591Z"
   },
   {
    "duration": 116387,
    "start_time": "2022-04-29T16:29:38.614Z"
   },
   {
    "duration": 3201,
    "start_time": "2022-04-29T16:31:35.007Z"
   },
   {
    "duration": 20,
    "start_time": "2022-04-29T16:31:38.210Z"
   },
   {
    "duration": 154,
    "start_time": "2022-04-29T16:31:38.232Z"
   },
   {
    "duration": 151,
    "start_time": "2022-04-29T16:31:38.388Z"
   },
   {
    "duration": 151,
    "start_time": "2022-04-29T16:31:38.541Z"
   },
   {
    "duration": 136,
    "start_time": "2022-04-29T16:31:38.693Z"
   },
   {
    "duration": 138,
    "start_time": "2022-04-29T16:31:38.831Z"
   },
   {
    "duration": 10,
    "start_time": "2022-04-29T16:31:38.973Z"
   }
  ],
  "kernelspec": {
   "display_name": "Python 3",
   "language": "python",
   "name": "python3"
  },
  "language_info": {
   "codemirror_mode": {
    "name": "ipython",
    "version": 3
   },
   "file_extension": ".py",
   "mimetype": "text/x-python",
   "name": "python",
   "nbconvert_exporter": "python",
   "pygments_lexer": "ipython3",
   "version": "3.7.4"
  },
  "toc": {
   "base_numbering": 1,
   "nav_menu": {},
   "number_sections": true,
   "sideBar": true,
   "skip_h1_title": true,
   "title_cell": "Table of Contents",
   "title_sidebar": "Contents",
   "toc_cell": false,
   "toc_position": {},
   "toc_section_display": true,
   "toc_window_display": false
  }
 },
 "nbformat": 4,
 "nbformat_minor": 2
}
